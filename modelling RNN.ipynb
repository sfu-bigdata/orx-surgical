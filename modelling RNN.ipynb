{
 "cells": [
  {
   "cell_type": "code",
   "execution_count": 1,
   "metadata": {},
   "outputs": [
    {
     "name": "stderr",
     "output_type": "stream",
     "text": [
      "2023-03-16 14:34:27.666223: I tensorflow/core/platform/cpu_feature_guard.cc:193] This TensorFlow binary is optimized with oneAPI Deep Neural Network Library (oneDNN) to use the following CPU instructions in performance-critical operations:  SSE4.1 SSE4.2 AVX AVX2 AVX512F AVX512_VNNI FMA\n",
      "To enable them in other operations, rebuild TensorFlow with the appropriate compiler flags.\n",
      "2023-03-16 14:34:27.710712: I tensorflow/core/util/port.cc:104] oneDNN custom operations are on. You may see slightly different numerical results due to floating-point round-off errors from different computation orders. To turn them off, set the environment variable `TF_ENABLE_ONEDNN_OPTS=0`.\n",
      "/local-scratch/localhome/ada104/orx/cms_preprocess.py:17: DtypeWarning: Columns (1,3,21) have mixed types. Specify dtype option on import or set low_memory=False.\n",
      "  ben = pd.read_csv(\"/localhome/ada104/orx/data/cms/ben.csv\",\n",
      "/local-scratch/localhome/ada104/orx/cms_preprocess.py:19: DtypeWarning: Columns (1,3,30) have mixed types. Specify dtype option on import or set low_memory=False.\n",
      "  ip = pd.read_csv(\"/localhome/ada104/orx/data/cms/ip.csv\",\n"
     ]
    }
   ],
   "source": [
    "# Import necessary packages\n",
    "import pandas as pd\n",
    "import numpy as np\n",
    "import seaborn as sns\n",
    "import matplotlib.pyplot as plt\n",
    "from sklearn.preprocessing import Binarizer, LabelEncoder, MultiLabelBinarizer, OneHotEncoder\n",
    "from sklearn.linear_model import Lasso\n",
    "from sklearn.model_selection import train_test_split, cross_val_score\n",
    "from sklearn.ensemble import RandomForestClassifier\n",
    "from sklearn.metrics import roc_curve, auc, roc_auc_score, precision_recall_curve, accuracy_score, precision_score, f1_score, ConfusionMatrixDisplay, confusion_matrix\n",
    "from scipy.stats import ttest_rel, ttest_ind\n",
    "from scipy import stats\n",
    "from keras.layers import Input, GRU, GlobalMaxPooling1D, GlobalAveragePooling1D, Lambda, concatenate, Dense, Dropout\n",
    "from keras.models import Model, load_model\n",
    "from keras import backend as K\n",
    "import tensorflow as tf\n",
    "import cms_preprocess"
   ]
  },
  {
   "cell_type": "code",
   "execution_count": 2,
   "metadata": {},
   "outputs": [],
   "source": [
    "train_input, test_input, train_target, test_target, train_dv, test_dv = cms_preprocess.get_mhe(beneficiaries_df=cms_preprocess.ben,\n",
    "                                                 inpatient_df=cms_preprocess.ip, dx = cms_preprocess.dx, pcs= cms_preprocess.pcs, \n",
    "                                                              start_year=2008, end_year=2010, rows = 10000, random_state = 42)"
   ]
  },
  {
   "cell_type": "code",
   "execution_count": 3,
   "metadata": {},
   "outputs": [],
   "source": [
    "# train_input = np.load('/localhome/ada104/orx/data/cms/train_inp.npy')\n",
    "# train_input = train_input.astype('float32')\n",
    "\n",
    "# train_dv = np.load('/localhome/ada104/orx/data/cms/train_dv.npy')\n",
    "# train_dv = train_dv\n",
    "\n",
    "# train_target = np.load('/localhome/ada104/orx/data/cms/train_tar.npy')\n",
    "# train_target = train_target.astype('float32')"
   ]
  },
  {
   "cell_type": "code",
   "execution_count": 4,
   "metadata": {},
   "outputs": [],
   "source": [
    "train_input = np.load('/localhome/ada104/orx/data/cms/train_inp_balanced.npy')\n",
    "train_input = train_input.astype('float32')\n",
    "\n",
    "train_dv = np.load('/localhome/ada104/orx/data/cms/train_dv_balanced.npy')\n",
    "train_dv = train_dv\n",
    "\n",
    "train_target = np.load('/localhome/ada104/orx/data/cms/train_tar_balanced.npy')\n",
    "train_target = train_target.astype('float32')"
   ]
  },
  {
   "cell_type": "code",
   "execution_count": 18,
   "metadata": {},
   "outputs": [],
   "source": [
    "np.save('/localhome/ada104/orx/data/cms/train_inp_balanced.npy', train_input.astype(bool))\n",
    "np.save('/localhome/ada104/orx/data/cms/train_dv_balanced.npy', train_dv)\n",
    "np.save('/localhome/ada104/orx/data/cms/test_inp_balanced.npy', test_input.astype(bool))\n",
    "np.save('/localhome/ada104/orx/data/cms/test_dv_balanced.npy', test_dv)\n",
    "np.save('/localhome/ada104/orx/data/cms/test_tar_balanced.npy', test_target.astype(bool))\n",
    "np.save('/localhome/ada104/orx/data/cms/train_tar_balanced.npy', train_target.astype(bool))"
   ]
  },
  {
   "cell_type": "code",
   "execution_count": 19,
   "metadata": {},
   "outputs": [
    {
     "data": {
      "text/plain": [
       "array([  46,   53,  138,  255,  344,  421,  741,  915,  925,  945, 1133,\n",
       "       1140, 1145, 1329, 1337, 1462, 1464, 1465, 1481, 1489, 1513, 1530,\n",
       "       1545, 1564, 1680, 1709, 1784, 1883, 1892, 1940, 1947, 2071, 2104,\n",
       "       2178, 2205, 2209, 2350, 2551, 2693, 2876, 2916, 2984, 3453, 3495,\n",
       "       3540, 3673, 3694, 3777, 3792, 3893, 3972])"
      ]
     },
     "execution_count": 19,
     "metadata": {},
     "output_type": "execute_result"
    }
   ],
   "source": [
    "np.where(train_target==1)[0]"
   ]
  },
  {
   "cell_type": "code",
   "execution_count": 3,
   "metadata": {},
   "outputs": [
    {
     "name": "stdout",
     "output_type": "stream",
     "text": [
      "INFO:tensorflow:Using MirroredStrategy with devices ('/job:localhost/replica:0/task:0/device:GPU:0',)\n",
      "INFO:tensorflow:Reduce to /job:localhost/replica:0/task:0/device:CPU:0 then broadcast to ('/job:localhost/replica:0/task:0/device:CPU:0',).\n",
      "INFO:tensorflow:Reduce to /job:localhost/replica:0/task:0/device:CPU:0 then broadcast to ('/job:localhost/replica:0/task:0/device:CPU:0',).\n",
      "INFO:tensorflow:Reduce to /job:localhost/replica:0/task:0/device:CPU:0 then broadcast to ('/job:localhost/replica:0/task:0/device:CPU:0',).\n",
      "INFO:tensorflow:Reduce to /job:localhost/replica:0/task:0/device:CPU:0 then broadcast to ('/job:localhost/replica:0/task:0/device:CPU:0',).\n"
     ]
    },
    {
     "name": "stderr",
     "output_type": "stream",
     "text": [
      "2023-03-16 14:35:09.897795: I tensorflow/compiler/xla/stream_executor/cuda/cuda_gpu_executor.cc:981] successful NUMA node read from SysFS had negative value (-1), but there must be at least one NUMA node, so returning NUMA node zero\n",
      "2023-03-16 14:35:09.912409: I tensorflow/compiler/xla/stream_executor/cuda/cuda_gpu_executor.cc:981] successful NUMA node read from SysFS had negative value (-1), but there must be at least one NUMA node, so returning NUMA node zero\n",
      "2023-03-16 14:35:09.912551: I tensorflow/compiler/xla/stream_executor/cuda/cuda_gpu_executor.cc:981] successful NUMA node read from SysFS had negative value (-1), but there must be at least one NUMA node, so returning NUMA node zero\n",
      "2023-03-16 14:35:09.912996: I tensorflow/core/platform/cpu_feature_guard.cc:193] This TensorFlow binary is optimized with oneAPI Deep Neural Network Library (oneDNN) to use the following CPU instructions in performance-critical operations:  SSE4.1 SSE4.2 AVX AVX2 AVX512F AVX512_VNNI FMA\n",
      "To enable them in other operations, rebuild TensorFlow with the appropriate compiler flags.\n",
      "2023-03-16 14:35:09.913705: I tensorflow/compiler/xla/stream_executor/cuda/cuda_gpu_executor.cc:981] successful NUMA node read from SysFS had negative value (-1), but there must be at least one NUMA node, so returning NUMA node zero\n",
      "2023-03-16 14:35:09.913809: I tensorflow/compiler/xla/stream_executor/cuda/cuda_gpu_executor.cc:981] successful NUMA node read from SysFS had negative value (-1), but there must be at least one NUMA node, so returning NUMA node zero\n",
      "2023-03-16 14:35:09.913910: I tensorflow/compiler/xla/stream_executor/cuda/cuda_gpu_executor.cc:981] successful NUMA node read from SysFS had negative value (-1), but there must be at least one NUMA node, so returning NUMA node zero\n",
      "2023-03-16 14:35:10.204424: I tensorflow/compiler/xla/stream_executor/cuda/cuda_gpu_executor.cc:981] successful NUMA node read from SysFS had negative value (-1), but there must be at least one NUMA node, so returning NUMA node zero\n",
      "2023-03-16 14:35:10.204567: I tensorflow/compiler/xla/stream_executor/cuda/cuda_gpu_executor.cc:981] successful NUMA node read from SysFS had negative value (-1), but there must be at least one NUMA node, so returning NUMA node zero\n",
      "2023-03-16 14:35:10.204656: I tensorflow/compiler/xla/stream_executor/cuda/cuda_gpu_executor.cc:981] successful NUMA node read from SysFS had negative value (-1), but there must be at least one NUMA node, so returning NUMA node zero\n",
      "2023-03-16 14:35:10.204718: I tensorflow/core/common_runtime/gpu/gpu_device.cc:1613] Created device /job:localhost/replica:0/task:0/device:GPU:0 with 42 MB memory:  -> device: 0, name: NVIDIA GeForce RTX 3060, pci bus id: 0000:01:00.0, compute capability: 8.6\n",
      "2023-03-16 14:35:20.450446: W tensorflow/tsl/framework/bfc_allocator.cc:479] Allocator (GPU_0_bfc) ran out of memory trying to allocate 191.63MiB (rounded to 200942848)requested by op _EagerConst\n",
      "If the cause is memory fragmentation maybe the environment variable 'TF_GPU_ALLOCATOR=cuda_malloc_async' will improve the situation. \n",
      "Current allocation summary follows.\n",
      "Current allocation summary follows.\n",
      "2023-03-16 14:35:20.450511: I tensorflow/tsl/framework/bfc_allocator.cc:1034] BFCAllocator dump for GPU_0_bfc\n",
      "2023-03-16 14:35:20.450533: I tensorflow/tsl/framework/bfc_allocator.cc:1041] Bin (256): \tTotal Chunks: 14, Chunks in use: 14. 3.5KiB allocated for chunks. 3.5KiB in use in bin. 64B client-requested in use in bin.\n",
      "2023-03-16 14:35:20.450548: I tensorflow/tsl/framework/bfc_allocator.cc:1041] Bin (512): \tTotal Chunks: 0, Chunks in use: 0. 0B allocated for chunks. 0B in use in bin. 0B client-requested in use in bin.\n",
      "2023-03-16 14:35:20.450563: I tensorflow/tsl/framework/bfc_allocator.cc:1041] Bin (1024): \tTotal Chunks: 1, Chunks in use: 1. 1.2KiB allocated for chunks. 1.2KiB in use in bin. 1.0KiB client-requested in use in bin.\n",
      "2023-03-16 14:35:20.450578: I tensorflow/tsl/framework/bfc_allocator.cc:1041] Bin (2048): \tTotal Chunks: 1, Chunks in use: 1. 2.5KiB allocated for chunks. 2.5KiB in use in bin. 2.4KiB client-requested in use in bin.\n",
      "2023-03-16 14:35:20.450607: I tensorflow/tsl/framework/bfc_allocator.cc:1041] Bin (4096): \tTotal Chunks: 2, Chunks in use: 1. 9.0KiB allocated for chunks. 4.8KiB in use in bin. 4.7KiB client-requested in use in bin.\n",
      "2023-03-16 14:35:20.450619: I tensorflow/tsl/framework/bfc_allocator.cc:1041] Bin (8192): \tTotal Chunks: 0, Chunks in use: 0. 0B allocated for chunks. 0B in use in bin. 0B client-requested in use in bin.\n",
      "2023-03-16 14:35:20.450631: I tensorflow/tsl/framework/bfc_allocator.cc:1041] Bin (16384): \tTotal Chunks: 0, Chunks in use: 0. 0B allocated for chunks. 0B in use in bin. 0B client-requested in use in bin.\n",
      "2023-03-16 14:35:20.450642: I tensorflow/tsl/framework/bfc_allocator.cc:1041] Bin (32768): \tTotal Chunks: 0, Chunks in use: 0. 0B allocated for chunks. 0B in use in bin. 0B client-requested in use in bin.\n",
      "2023-03-16 14:35:20.450654: I tensorflow/tsl/framework/bfc_allocator.cc:1041] Bin (65536): \tTotal Chunks: 0, Chunks in use: 0. 0B allocated for chunks. 0B in use in bin. 0B client-requested in use in bin.\n",
      "2023-03-16 14:35:20.450666: I tensorflow/tsl/framework/bfc_allocator.cc:1041] Bin (131072): \tTotal Chunks: 0, Chunks in use: 0. 0B allocated for chunks. 0B in use in bin. 0B client-requested in use in bin.\n",
      "2023-03-16 14:35:20.450681: I tensorflow/tsl/framework/bfc_allocator.cc:1041] Bin (262144): \tTotal Chunks: 1, Chunks in use: 1. 468.8KiB allocated for chunks. 468.8KiB in use in bin. 468.8KiB client-requested in use in bin.\n",
      "2023-03-16 14:35:20.450694: I tensorflow/tsl/framework/bfc_allocator.cc:1041] Bin (524288): \tTotal Chunks: 1, Chunks in use: 0. 530.0KiB allocated for chunks. 0B in use in bin. 0B client-requested in use in bin.\n",
      "2023-03-16 14:35:20.450708: I tensorflow/tsl/framework/bfc_allocator.cc:1041] Bin (1048576): \tTotal Chunks: 2, Chunks in use: 1. 2.55MiB allocated for chunks. 1.18MiB in use in bin. 1.18MiB client-requested in use in bin.\n",
      "2023-03-16 14:35:20.450719: I tensorflow/tsl/framework/bfc_allocator.cc:1041] Bin (2097152): \tTotal Chunks: 0, Chunks in use: 0. 0B allocated for chunks. 0B in use in bin. 0B client-requested in use in bin.\n",
      "2023-03-16 14:35:20.450731: I tensorflow/tsl/framework/bfc_allocator.cc:1041] Bin (4194304): \tTotal Chunks: 0, Chunks in use: 0. 0B allocated for chunks. 0B in use in bin. 0B client-requested in use in bin.\n",
      "2023-03-16 14:35:20.450742: I tensorflow/tsl/framework/bfc_allocator.cc:1041] Bin (8388608): \tTotal Chunks: 0, Chunks in use: 0. 0B allocated for chunks. 0B in use in bin. 0B client-requested in use in bin.\n",
      "2023-03-16 14:35:20.450753: I tensorflow/tsl/framework/bfc_allocator.cc:1041] Bin (16777216): \tTotal Chunks: 0, Chunks in use: 0. 0B allocated for chunks. 0B in use in bin. 0B client-requested in use in bin.\n",
      "2023-03-16 14:35:20.450767: I tensorflow/tsl/framework/bfc_allocator.cc:1041] Bin (33554432): \tTotal Chunks: 1, Chunks in use: 0. 38.64MiB allocated for chunks. 0B in use in bin. 0B client-requested in use in bin.\n",
      "2023-03-16 14:35:20.450778: I tensorflow/tsl/framework/bfc_allocator.cc:1041] Bin (67108864): \tTotal Chunks: 0, Chunks in use: 0. 0B allocated for chunks. 0B in use in bin. 0B client-requested in use in bin.\n",
      "2023-03-16 14:35:20.450790: I tensorflow/tsl/framework/bfc_allocator.cc:1041] Bin (134217728): \tTotal Chunks: 0, Chunks in use: 0. 0B allocated for chunks. 0B in use in bin. 0B client-requested in use in bin.\n",
      "2023-03-16 14:35:20.450801: I tensorflow/tsl/framework/bfc_allocator.cc:1041] Bin (268435456): \tTotal Chunks: 0, Chunks in use: 0. 0B allocated for chunks. 0B in use in bin. 0B client-requested in use in bin.\n",
      "2023-03-16 14:35:20.450816: I tensorflow/tsl/framework/bfc_allocator.cc:1057] Bin for 191.63MiB was 128.00MiB, Chunk State: \n",
      "2023-03-16 14:35:20.450834: I tensorflow/tsl/framework/bfc_allocator.cc:1070] Next region of size 44236800\n",
      "2023-03-16 14:35:20.450850: I tensorflow/tsl/framework/bfc_allocator.cc:1090] InUse at 7fa59c000000 of size 256 next 1\n",
      "2023-03-16 14:35:20.450860: I tensorflow/tsl/framework/bfc_allocator.cc:1090] InUse at 7fa59c000100 of size 1280 next 2\n",
      "2023-03-16 14:35:20.450870: I tensorflow/tsl/framework/bfc_allocator.cc:1090] InUse at 7fa59c000600 of size 256 next 3\n",
      "2023-03-16 14:35:20.450879: I tensorflow/tsl/framework/bfc_allocator.cc:1090] InUse at 7fa59c000700 of size 256 next 4\n",
      "2023-03-16 14:35:20.450888: I tensorflow/tsl/framework/bfc_allocator.cc:1090] InUse at 7fa59c000800 of size 256 next 6\n",
      "2023-03-16 14:35:20.450897: I tensorflow/tsl/framework/bfc_allocator.cc:1090] InUse at 7fa59c000900 of size 256 next 7\n",
      "2023-03-16 14:35:20.450906: I tensorflow/tsl/framework/bfc_allocator.cc:1090] Free  at 7fa59c000a00 of size 1440512 next 13\n",
      "2023-03-16 14:35:20.450916: I tensorflow/tsl/framework/bfc_allocator.cc:1090] InUse at 7fa59c160500 of size 480000 next 15\n",
      "2023-03-16 14:35:20.450926: I tensorflow/tsl/framework/bfc_allocator.cc:1090] InUse at 7fa59c1d5800 of size 256 next 11\n",
      "2023-03-16 14:35:20.450936: I tensorflow/tsl/framework/bfc_allocator.cc:1090] InUse at 7fa59c1d5900 of size 4864 next 5\n",
      "2023-03-16 14:35:20.450945: I tensorflow/tsl/framework/bfc_allocator.cc:1090] InUse at 7fa59c1d6c00 of size 256 next 8\n",
      "2023-03-16 14:35:20.450954: I tensorflow/tsl/framework/bfc_allocator.cc:1090] InUse at 7fa59c1d6d00 of size 256 next 12\n",
      "2023-03-16 14:35:20.450963: I tensorflow/tsl/framework/bfc_allocator.cc:1090] InUse at 7fa59c1d6e00 of size 256 next 16\n",
      "2023-03-16 14:35:20.450973: I tensorflow/tsl/framework/bfc_allocator.cc:1090] InUse at 7fa59c1d6f00 of size 256 next 17\n",
      "2023-03-16 14:35:20.450982: I tensorflow/tsl/framework/bfc_allocator.cc:1090] InUse at 7fa59c1d7000 of size 256 next 14\n",
      "2023-03-16 14:35:20.450991: I tensorflow/tsl/framework/bfc_allocator.cc:1090] InUse at 7fa59c1d7100 of size 256 next 18\n",
      "2023-03-16 14:35:20.451000: I tensorflow/tsl/framework/bfc_allocator.cc:1090] InUse at 7fa59c1d7200 of size 256 next 21\n",
      "2023-03-16 14:35:20.451009: I tensorflow/tsl/framework/bfc_allocator.cc:1090] InUse at 7fa59c1d7300 of size 256 next 22\n",
      "2023-03-16 14:35:20.451017: I tensorflow/tsl/framework/bfc_allocator.cc:1090] Free  at 7fa59c1d7400 of size 4352 next 19\n",
      "2023-03-16 14:35:20.451027: I tensorflow/tsl/framework/bfc_allocator.cc:1090] InUse at 7fa59c1d8500 of size 2560 next 20\n",
      "2023-03-16 14:35:20.451036: I tensorflow/tsl/framework/bfc_allocator.cc:1090] Free  at 7fa59c1d8f00 of size 542720 next 9\n",
      "2023-03-16 14:35:20.451046: I tensorflow/tsl/framework/bfc_allocator.cc:1090] InUse at 7fa59c25d700 of size 1238528 next 10\n",
      "2023-03-16 14:35:20.451056: I tensorflow/tsl/framework/bfc_allocator.cc:1090] Free  at 7fa59c38bd00 of size 40518400 next 18446744073709551615\n",
      "2023-03-16 14:35:20.451066: I tensorflow/tsl/framework/bfc_allocator.cc:1095]      Summary of in-use Chunks by size: \n",
      "2023-03-16 14:35:20.451079: I tensorflow/tsl/framework/bfc_allocator.cc:1098] 14 Chunks of size 256 totalling 3.5KiB\n",
      "2023-03-16 14:35:20.451090: I tensorflow/tsl/framework/bfc_allocator.cc:1098] 1 Chunks of size 1280 totalling 1.2KiB\n",
      "2023-03-16 14:35:20.451100: I tensorflow/tsl/framework/bfc_allocator.cc:1098] 1 Chunks of size 2560 totalling 2.5KiB\n",
      "2023-03-16 14:35:20.451110: I tensorflow/tsl/framework/bfc_allocator.cc:1098] 1 Chunks of size 4864 totalling 4.8KiB\n",
      "2023-03-16 14:35:20.451122: I tensorflow/tsl/framework/bfc_allocator.cc:1098] 1 Chunks of size 480000 totalling 468.8KiB\n",
      "2023-03-16 14:35:20.451132: I tensorflow/tsl/framework/bfc_allocator.cc:1098] 1 Chunks of size 1238528 totalling 1.18MiB\n",
      "2023-03-16 14:35:20.451143: I tensorflow/tsl/framework/bfc_allocator.cc:1102] Sum Total of in-use chunks: 1.65MiB\n",
      "2023-03-16 14:35:20.451153: I tensorflow/tsl/framework/bfc_allocator.cc:1104] total_region_allocated_bytes_: 44236800 memory_limit_: 44236800 available bytes: 0 curr_region_allocation_bytes_: 88473600\n",
      "2023-03-16 14:35:20.451172: I tensorflow/tsl/framework/bfc_allocator.cc:1110] Stats: \n",
      "Limit:                        44236800\n",
      "InUse:                         1730816\n",
      "MaxInUse:                      3718144\n",
      "NumAllocs:                          40\n",
      "MaxAllocSize:                  1238528\n",
      "Reserved:                            0\n",
      "PeakReserved:                        0\n",
      "LargestFreeBlock:                    0\n",
      "\n",
      "2023-03-16 14:35:20.451186: W tensorflow/tsl/framework/bfc_allocator.cc:492] *__******___________________________________________________________________________________________\n"
     ]
    },
    {
     "ename": "InternalError",
     "evalue": "Failed copying input tensor from /job:localhost/replica:0/task:0/device:CPU:0 to /job:localhost/replica:0/task:0/device:GPU:0 in order to run _EagerConst: Dst tensor is not initialized.",
     "output_type": "error",
     "traceback": [
      "\u001b[0;31m---------------------------------------------------------------------------\u001b[0m",
      "\u001b[0;31mInternalError\u001b[0m                             Traceback (most recent call last)",
      "Cell \u001b[0;32mIn[3], line 37\u001b[0m\n\u001b[1;32m     34\u001b[0m chunk_features \u001b[39m=\u001b[39m train_dv[start_index:end_index]\n\u001b[1;32m     35\u001b[0m chunk_target \u001b[39m=\u001b[39m train_target[start_index:end_index]\n\u001b[0;32m---> 37\u001b[0m model\u001b[39m.\u001b[39;49mfit([chunk_data, chunk_features], chunk_target, epochs\u001b[39m=\u001b[39;49m\u001b[39m10\u001b[39;49m, batch_size\u001b[39m=\u001b[39;49m\u001b[39m250\u001b[39;49m)\n",
      "File \u001b[0;32m/opt/conda/sharedenvs/orx/lib/python3.10/site-packages/keras/utils/traceback_utils.py:70\u001b[0m, in \u001b[0;36mfilter_traceback.<locals>.error_handler\u001b[0;34m(*args, **kwargs)\u001b[0m\n\u001b[1;32m     67\u001b[0m     filtered_tb \u001b[39m=\u001b[39m _process_traceback_frames(e\u001b[39m.\u001b[39m__traceback__)\n\u001b[1;32m     68\u001b[0m     \u001b[39m# To get the full stack trace, call:\u001b[39;00m\n\u001b[1;32m     69\u001b[0m     \u001b[39m# `tf.debugging.disable_traceback_filtering()`\u001b[39;00m\n\u001b[0;32m---> 70\u001b[0m     \u001b[39mraise\u001b[39;00m e\u001b[39m.\u001b[39mwith_traceback(filtered_tb) \u001b[39mfrom\u001b[39;00m \u001b[39mNone\u001b[39m\n\u001b[1;32m     71\u001b[0m \u001b[39mfinally\u001b[39;00m:\n\u001b[1;32m     72\u001b[0m     \u001b[39mdel\u001b[39;00m filtered_tb\n",
      "File \u001b[0;32m/opt/conda/sharedenvs/orx/lib/python3.10/site-packages/tensorflow/python/framework/constant_op.py:102\u001b[0m, in \u001b[0;36mconvert_to_eager_tensor\u001b[0;34m(value, ctx, dtype)\u001b[0m\n\u001b[1;32m    100\u001b[0m     dtype \u001b[39m=\u001b[39m dtypes\u001b[39m.\u001b[39mas_dtype(dtype)\u001b[39m.\u001b[39mas_datatype_enum\n\u001b[1;32m    101\u001b[0m ctx\u001b[39m.\u001b[39mensure_initialized()\n\u001b[0;32m--> 102\u001b[0m \u001b[39mreturn\u001b[39;00m ops\u001b[39m.\u001b[39;49mEagerTensor(value, ctx\u001b[39m.\u001b[39;49mdevice_name, dtype)\n",
      "\u001b[0;31mInternalError\u001b[0m: Failed copying input tensor from /job:localhost/replica:0/task:0/device:CPU:0 to /job:localhost/replica:0/task:0/device:GPU:0 in order to run _EagerConst: Dst tensor is not initialized."
     ]
    }
   ],
   "source": [
    "strategy = tf.distribute.MirroredStrategy()\n",
    "\n",
    "with strategy.scope():\n",
    "    # Define the model\n",
    "    data_input = tf.keras.layers.Input(shape=(None, 516))  # input shape for non-demographic variables data\n",
    "    feature_input = tf.keras.layers.Input(shape=(2,))  # input shape for demographic variables\n",
    "    x = tf.keras.layers.GRU(200, return_sequences=True, dropout=0.2)(data_input)  # GRU layer with 200 hidden units and dropout rate of 0.2\n",
    "    x_max = tf.keras.layers.GlobalMaxPooling1D()(x)  # max pooling over the time dimension\n",
    "    x_avg = tf.keras.layers.GlobalAveragePooling1D()(x)  # average pooling over the time dimension\n",
    "    x_min = tf.keras.layers.Lambda(lambda t: -1 * tf.keras.backend.max(-1 * t, axis=1))(x)  # min pooling over the time dimension\n",
    "    x = tf.keras.layers.concatenate([x_max, x_avg, x_min])  # concatenate the pooled outputs\n",
    "    x = tf.keras.layers.Dropout(0.2)(x)  # dropout layer to prevent overfitting\n",
    "    concatenated = tf.keras.layers.concatenate([x, feature_input])  # concatenate the demographic variables with the pooled output\n",
    "    output = tf.keras.layers.Dense(1, activation='sigmoid')(concatenated)  # dense, fully connected layer with a sigmoid activation\n",
    "    model = tf.keras.Model(inputs=[data_input, feature_input], outputs=output)  # define the model with inputs and outputs\n",
    "\n",
    "    # Compile the model\n",
    "    model.compile(optimizer=tf.keras.optimizers.Adam(learning_rate=0.001), loss='binary_crossentropy', metrics=['accuracy'])\n",
    "\n",
    "    # Define the number of chunks\n",
    "    num_chunks = 30\n",
    "\n",
    "    # Calculate the size of each chunk\n",
    "    chunk_size = train_input.shape[0] // num_chunks\n",
    "\n",
    "    # Train the model in chunks\n",
    "    for i in range(num_chunks):\n",
    "        start_index = i * chunk_size\n",
    "        end_index = start_index + chunk_size\n",
    "        if i == num_chunks - 1:\n",
    "            end_index = train_input.shape[0]\n",
    "\n",
    "        chunk_data = train_input[start_index:end_index]\n",
    "        chunk_features = train_dv[start_index:end_index]\n",
    "        chunk_target = train_target[start_index:end_index]\n",
    "\n",
    "        model.fit([chunk_data, chunk_features], chunk_target, epochs=10, batch_size=250)"
   ]
  },
  {
   "cell_type": "code",
   "execution_count": null,
   "metadata": {},
   "outputs": [],
   "source": [
    "strategy = tf.distribute.MirroredStrategy()\n",
    "\n",
    "with strategy.scope():\n",
    "    # Define the model\n",
    "    data_input = tf.keras.layers.Input(shape=(None, 516))  # input shape for non-demographic variables data\n",
    "    feature_input = tf.keras.layers.Input(shape=(2,))  # input shape for demographic variables\n",
    "    x = tf.keras.layers.GRU(200, return_sequences=True, dropout=0.2)(data_input)  # GRU layer with 200 hidden units and dropout rate of 0.2\n",
    "    x_max = tf.keras.layers.GlobalMaxPooling1D()(x)  # max pooling over the time dimension\n",
    "    x_avg = tf.keras.layers.GlobalAveragePooling1D()(x)  # average pooling over the time dimension\n",
    "    x_min = tf.keras.layers.Lambda(lambda t: -1 * tf.keras.backend.max(-1 * t, axis=1))(x)  # min pooling over the time dimension\n",
    "    x = tf.keras.layers.concatenate([x_max, x_avg, x_min])  # concatenate the pooled outputs\n",
    "    x = tf.keras.layers.Dropout(0.2)(x)  # dropout layer to prevent overfitting\n",
    "    concatenated = tf.keras.layers.concatenate([x, feature_input])  # concatenate the demographic variables with the pooled output\n",
    "    output = tf.keras.layers.Dense(1, activation='sigmoid')(concatenated)  # dense, fully connected layer with a sigmoid activation\n",
    "    model = tf.keras.Model(inputs=[data_input, feature_input], outputs=output)  # define the model with inputs and outputs\n",
    "\n",
    "    # Compile the model\n",
    "    model.compile(optimizer=tf.keras.optimizers.Adam(learning_rate=0.001), loss='binary_crossentropy', metrics=['accuracy'])\n",
    "\n",
    "    # Define the number of chunks\n",
    "    num_chunks = 30\n",
    "\n",
    "    # Calculate the size of each chunk\n",
    "    chunk_size = train_input.shape[0] // num_chunks\n",
    "\n",
    "    # Train the model in chunks\n",
    "    history = {'loss': [], 'accuracy': []}\n",
    "    for i in range(num_chunks):\n",
    "        start_index = i * chunk_size\n",
    "        end_index = start_index + chunk_size\n",
    "        if i == num_chunks - 1:\n",
    "            end_index = train_input.shape[0]\n",
    "\n",
    "        chunk_data = train_input[start_index:end_index]\n",
    "        chunk_features = train_dv[start_index:end_index]\n",
    "        chunk_target = train_target[start_index:end_index]\n",
    "\n",
    "        hist = model.fit([chunk_data, chunk_features], chunk_target, epochs=10, batch_size=250)\n",
    "        \n",
    "        history['loss'].extend(hist.history['loss'])\n",
    "        history['accuracy'].extend(hist.history['accuracy'])\n",
    "    \n",
    "    # Plot the learning curve\n",
    "    fig, ax = plt.subplots(figsize=(8,6))\n",
    "    ax.plot(range(1, len(history['loss']) + 1), history['loss'], label='Training Loss')\n",
    "    ax.plot(range(1, len(history['accuracy']) + 1), history['accuracy'], label='Training Accuracy')\n",
    "    ax.set_xlabel('Number of iterations')\n",
    "    ax.set_ylabel('Loss / Accuracy')\n",
    "    ax.legend()\n",
    "    plt.show()"
   ]
  },
  {
   "cell_type": "code",
   "execution_count": 8,
   "metadata": {},
   "outputs": [],
   "source": [
    "# test_input = np.load('/localhome/ada104/orx/data/cms/test_inp.npy')\n",
    "# test_input = test_input.astype('float32')\n",
    "\n",
    "# test_dv = np.load('/localhome/ada104/orx/data/cms/test_dv.npy')\n",
    "\n",
    "# test_target = np.load('/localhome/ada104/orx/data/cms/test_tar.npy')\n",
    "# test_target = test_target.astype('float32')"
   ]
  },
  {
   "cell_type": "code",
   "execution_count": 9,
   "metadata": {},
   "outputs": [],
   "source": [
    "test_input = np.load('/localhome/ada104/orx/data/cms/test_inp_balanced.npy')\n",
    "test_input = test_input.astype('float32')\n",
    "\n",
    "test_dv = np.load('/localhome/ada104/orx/data/cms/test_dv_balanced.npy')\n",
    "\n",
    "test_target = np.load('/localhome/ada104/orx/data/cms/test_tar_balanced.npy')\n",
    "test_target = test_target.astype('float32')"
   ]
  },
  {
   "cell_type": "code",
   "execution_count": 21,
   "metadata": {},
   "outputs": [
    {
     "name": "stdout",
     "output_type": "stream",
     "text": [
      "5/5 [==============================] - 0s 6ms/step\n",
      "5/5 [==============================] - 0s 5ms/step\n",
      "5/5 [==============================] - 0s 6ms/step\n",
      "5/5 [==============================] - 0s 5ms/step\n",
      "5/5 [==============================] - 0s 5ms/step\n",
      "5/5 [==============================] - 0s 5ms/step\n",
      "5/5 [==============================] - 0s 5ms/step\n",
      "5/5 [==============================] - 0s 5ms/step\n",
      "5/5 [==============================] - 0s 5ms/step\n",
      "5/5 [==============================] - 0s 5ms/step\n",
      "5/5 [==============================] - 0s 5ms/step\n",
      "5/5 [==============================] - 0s 5ms/step\n",
      "5/5 [==============================] - 0s 5ms/step\n",
      "5/5 [==============================] - 0s 5ms/step\n",
      "5/5 [==============================] - 0s 5ms/step\n",
      "5/5 [==============================] - 0s 6ms/step\n",
      "5/5 [==============================] - 0s 5ms/step\n",
      "5/5 [==============================] - 0s 5ms/step\n",
      "5/5 [==============================] - 0s 5ms/step\n",
      "5/5 [==============================] - 0s 5ms/step\n",
      "5/5 [==============================] - 0s 5ms/step\n",
      "5/5 [==============================] - 0s 6ms/step\n",
      "5/5 [==============================] - 0s 6ms/step\n",
      "5/5 [==============================] - 0s 5ms/step\n",
      "5/5 [==============================] - 0s 5ms/step\n",
      "5/5 [==============================] - 0s 5ms/step\n",
      "5/5 [==============================] - 0s 6ms/step\n",
      "5/5 [==============================] - 0s 6ms/step\n",
      "5/5 [==============================] - 0s 5ms/step\n",
      "5/5 [==============================] - 0s 5ms/step\n",
      "2/2 [==============================] - 0s 5ms/step\n"
     ]
    }
   ],
   "source": [
    "# Set batch size and number of chunks\n",
    "batch_size = 8\n",
    "num_chunks = 30\n",
    "\n",
    "# Split test data and demographic variables into chunks\n",
    "chunk_size = len(test_input) // num_chunks\n",
    "test_chunks = [test_input[i:i+chunk_size] for i in range(0, len(test_input), chunk_size)]\n",
    "feature_chunks = [test_dv[i:i+chunk_size] for i in range(0, len(test_dv), chunk_size)]\n",
    "\n",
    "# Get predictions for each chunk of data\n",
    "predictions = []\n",
    "for i, chunk in enumerate(test_chunks):\n",
    "    feature_chunk = feature_chunks[i]\n",
    "    chunk_predictions = model.predict([chunk, feature_chunk], batch_size=batch_size)\n",
    "    predictions.append(chunk_predictions)\n",
    "\n",
    "# Concatenate predictions from all chunks\n",
    "predictions = np.concatenate(predictions, axis=0)\n"
   ]
  },
  {
   "cell_type": "code",
   "execution_count": 22,
   "metadata": {},
   "outputs": [
    {
     "data": {
      "text/plain": [
       "array([167, 209, 214, 283, 355, 383, 423, 491, 631, 674, 837, 890, 945])"
      ]
     },
     "execution_count": 22,
     "metadata": {},
     "output_type": "execute_result"
    }
   ],
   "source": [
    "np.where(test_target==1)[0]"
   ]
  },
  {
   "cell_type": "code",
   "execution_count": 23,
   "metadata": {},
   "outputs": [
    {
     "name": "stdout",
     "output_type": "stream",
     "text": [
      "1/1 [==============================] - 0s 37ms/step\n",
      "Prediction: [[5.4519447e-03]\n",
      " [5.4519447e-03]\n",
      " [3.2965370e-02]\n",
      " [2.0060364e-04]\n",
      " [4.0482104e-02]\n",
      " [2.0060364e-04]\n",
      " [2.9213574e-02]\n",
      " [1.1350195e-01]\n",
      " [9.6078634e-02]\n",
      " [2.1409830e-02]\n",
      " [4.9769670e-01]\n",
      " [2.5130460e-01]\n",
      " [7.2763907e-03]]\n"
     ]
    }
   ],
   "source": [
    "# Get the prediction for some samples in the test set\n",
    "sample = test_input[np.where(test_target==1)[0]]\n",
    "dv_sample = test_dv[np.where(test_target==1)[0]]\n",
    "\n",
    "prediction = model.predict([np.array(sample), dv_sample])\n",
    "\n",
    "# Print the prediction\n",
    "print('Prediction:', prediction)"
   ]
  },
  {
   "cell_type": "code",
   "execution_count": 24,
   "metadata": {},
   "outputs": [
    {
     "name": "stdout",
     "output_type": "stream",
     "text": [
      "0.46\n"
     ]
    }
   ],
   "source": [
    "preds = np.copy(predictions)\n",
    "preds = np.squeeze(preds)\n",
    "\n",
    "# Find the F1 score for different threshold values\n",
    "thresholds = np.arange(0, 1, 0.01)\n",
    "f1_scores = [f1_score(test_target, (preds > t).astype(int), average='weighted') for t in thresholds]\n",
    "\n",
    "# Find the threshold value that maximizes the F1 score\n",
    "best_idx = np.argmax(f1_scores)\n",
    "best_threshold = thresholds[best_idx]\n",
    "\n",
    "print(best_threshold)\n",
    "\n",
    "preds[preds >= best_threshold] = 1\n",
    "preds[preds < best_threshold] = 0"
   ]
  },
  {
   "cell_type": "code",
   "execution_count": 25,
   "metadata": {},
   "outputs": [
    {
     "data": {
      "image/png": "[encoded data removed]",
      "text/plain": [
       "<Figure size 640x480 with 2 Axes>"
      ]
     },
     "metadata": {},
     "output_type": "display_data"
    }
   ],
   "source": [
    "# Compute the confusion matrix\n",
    "cm = confusion_matrix(test_target, preds)\n",
    "\n",
    "# Create a heatmap of the confusion matrix\n",
    "sns.heatmap(cm, annot=True, fmt='g', cmap='Blues')\n",
    "\n",
    "# Add labels and title\n",
    "plt.xlabel('Predicted labels')\n",
    "plt.ylabel('True labels')\n",
    "plt.title('Confusion Matrix')\n",
    "\n",
    "# Show the plot\n",
    "plt.show()\n"
   ]
  },
  {
   "cell_type": "code",
   "execution_count": 26,
   "metadata": {},
   "outputs": [
    {
     "name": "stdout",
     "output_type": "stream",
     "text": [
      "AUC: 0.5380\n",
      "Precision with recall set to 0.9: 0.5000\n"
     ]
    },
    {
     "data": {
      "image/png": "[encoded data removed]",
      "text/plain": [
       "<Figure size 640x480 with 1 Axes>"
      ]
     },
     "metadata": {},
     "output_type": "display_data"
    }
   ],
   "source": [
    "# Compute the AUC\n",
    "auc_score = roc_auc_score(test_target, preds)\n",
    "print(\"AUC: {:.4f}\".format(auc_score))\n",
    "\n",
    "# Compute the precision with recall set to 0.9\n",
    "precision, recall, thresholds = precision_recall_curve(test_target, preds)\n",
    "idx = (recall >= 0.9).argmin()\n",
    "precision_at_recall_09 = precision[idx]\n",
    "print(\"Precision with recall set to 0.9: {:.4f}\".format(precision_at_recall_09))\n",
    "\n",
    "# Compute the false positive rate and true positive rate\n",
    "fpr, tpr, thresholds = roc_curve(test_target, preds)\n",
    "\n",
    "# Compute the area under the curve (AUC)\n",
    "roc_auc_curve = auc(fpr, tpr)\n",
    "\n",
    "# Plot the ROC curve\n",
    "plt.figure()\n",
    "plt.plot(fpr, tpr, color='darkorange', lw=2, label='ROC curve (AUC = {:.4f})'.format(roc_auc_curve))\n",
    "plt.plot([0, 1], [0, 1], color='navy', lw=2, linestyle='--')\n",
    "plt.xlabel('False Positive Rate')\n",
    "plt.ylabel('True Positive Rate')\n",
    "plt.title('Receiver operating characteristic (ROC) curve')\n",
    "plt.legend(loc='lower right')\n",
    "plt.show()\n"
   ]
  }
 ],
 "metadata": {
  "kernelspec": {
   "display_name": "orx",
   "language": "python",
   "name": "python3"
  },
  "language_info": {
   "codemirror_mode": {
    "name": "ipython",
    "version": 3
   },
   "file_extension": ".py",
   "mimetype": "text/x-python",
   "name": "python",
   "nbconvert_exporter": "python",
   "pygments_lexer": "ipython3",
   "version": "3.10.9"
  },
  "orig_nbformat": 4,
  "vscode": {
   "interpreter": {
    "hash": "1cc8dc20d4b2d36f80e43c89fbc91b78036150fd34ea14a0f3f26f3341398113"
   }
  }
 },
 "nbformat": 4,
 "nbformat_minor": 2
}
