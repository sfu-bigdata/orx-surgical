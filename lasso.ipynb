{
 "cells": [
  {
   "cell_type": "code",
   "execution_count": 1,
   "metadata": {},
   "outputs": [
    {
     "name": "stderr",
     "output_type": "stream",
     "text": [
      "2023-03-16 12:39:34.565619: I tensorflow/core/platform/cpu_feature_guard.cc:193] This TensorFlow binary is optimized with oneAPI Deep Neural Network Library (oneDNN) to use the following CPU instructions in performance-critical operations:  SSE4.1 SSE4.2 AVX AVX2 AVX512F AVX512_VNNI FMA\n",
      "To enable them in other operations, rebuild TensorFlow with the appropriate compiler flags.\n",
      "2023-03-16 12:39:34.612769: I tensorflow/core/util/port.cc:104] oneDNN custom operations are on. You may see slightly different numerical results due to floating-point round-off errors from different computation orders. To turn them off, set the environment variable `TF_ENABLE_ONEDNN_OPTS=0`.\n",
      "/local-scratch/localhome/ada104/orx/cms_preprocess.py:17: DtypeWarning: Columns (1,3,21) have mixed types. Specify dtype option on import or set low_memory=False.\n",
      "  ben = pd.read_csv(\"/localhome/ada104/orx/data/cms/ben.csv\",\n",
      "/local-scratch/localhome/ada104/orx/cms_preprocess.py:19: DtypeWarning: Columns (1,3,30) have mixed types. Specify dtype option on import or set low_memory=False.\n",
      "  ip = pd.read_csv(\"/localhome/ada104/orx/data/cms/ip.csv\",\n"
     ]
    }
   ],
   "source": [
    "# Import necessary packages\n",
    "import pandas as pd\n",
    "import numpy as np\n",
    "import seaborn as sns\n",
    "import matplotlib.pyplot as plt\n",
    "from sklearn.preprocessing import Binarizer, LabelEncoder, MultiLabelBinarizer, OneHotEncoder\n",
    "from sklearn.linear_model import Lasso\n",
    "from sklearn.model_selection import train_test_split, cross_val_score\n",
    "from sklearn.ensemble import RandomForestClassifier\n",
    "from sklearn.metrics import roc_curve, auc, roc_auc_score, precision_recall_curve, accuracy_score, precision_score, f1_score, ConfusionMatrixDisplay, confusion_matrix\n",
    "from scipy.stats import ttest_rel, ttest_ind\n",
    "from scipy import stats\n",
    "from keras.layers import Input, Conv1D, MaxPooling1D, AveragePooling1D, Flatten, Dense, Dropout\n",
    "from keras.models import Model, load_model\n",
    "from keras import backend as K\n",
    "import tensorflow as tf\n",
    "import cms_preprocess"
   ]
  },
  {
   "cell_type": "code",
   "execution_count": 3,
   "metadata": {},
   "outputs": [
    {
     "ename": "ValueError",
     "evalue": "cannot reshape array of size 21435408 into shape (1572)",
     "output_type": "error",
     "traceback": [
      "\u001b[0;31m---------------------------------------------------------------------------\u001b[0m",
      "\u001b[0;31mValueError\u001b[0m                                Traceback (most recent call last)",
      "Cell \u001b[0;32mIn[3], line 2\u001b[0m\n\u001b[1;32m      1\u001b[0m \u001b[39m# Split the data into train and test sets\u001b[39;00m\n\u001b[0;32m----> 2\u001b[0m x_train, x_test, y_train, y_test \u001b[39m=\u001b[39m cms_preprocess\u001b[39m.\u001b[39;49mget_aov(beneficiaries_df\u001b[39m=\u001b[39;49mcms_preprocess\u001b[39m.\u001b[39;49mben,\n\u001b[1;32m      3\u001b[0m                                                  inpatient_df\u001b[39m=\u001b[39;49mcms_preprocess\u001b[39m.\u001b[39;49mip, dx \u001b[39m=\u001b[39;49m cms_preprocess\u001b[39m.\u001b[39;49mdx, pcs\u001b[39m=\u001b[39;49m cms_preprocess\u001b[39m.\u001b[39;49mpcs, \n\u001b[1;32m      4\u001b[0m                                                               start_year\u001b[39m=\u001b[39;49m\u001b[39m2008\u001b[39;49m, end_year\u001b[39m=\u001b[39;49m\u001b[39m2010\u001b[39;49m, random_state \u001b[39m=\u001b[39;49m \u001b[39m42\u001b[39;49m)\n\u001b[1;32m      6\u001b[0m \u001b[39m# Initialize the Lasso classifier\u001b[39;00m\n\u001b[1;32m      7\u001b[0m clf \u001b[39m=\u001b[39m Lasso(alpha\u001b[39m=\u001b[39m\u001b[39m0.001\u001b[39m)\n",
      "File \u001b[0;32m/local-scratch/localhome/ada104/orx/cms_preprocess.py:339\u001b[0m, in \u001b[0;36mget_aov\u001b[0;34m(beneficiaries_df, inpatient_df, dx, pcs, start_year, end_year, random_state)\u001b[0m\n\u001b[1;32m    337\u001b[0m processed_data \u001b[39m=\u001b[39m create_code_dataframe(x_data, dxb, pcsb, y_data)\n\u001b[1;32m    338\u001b[0m \u001b[39m# The data is multi-hot encoded and split into training and testing sets\u001b[39;00m\n\u001b[0;32m--> 339\u001b[0m input_data , target_data \u001b[39m=\u001b[39m aggregate_occurrence_vector_encoding(data \u001b[39m=\u001b[39;49m processed_data, start_col_index \u001b[39m=\u001b[39;49m col_num\u001b[39m-\u001b[39;49m\u001b[39m4\u001b[39;49m)\n\u001b[1;32m    340\u001b[0m train_input, test_input, train_target, test_target \u001b[39m=\u001b[39m train_test_split(input_data,\n\u001b[1;32m    341\u001b[0m                 target_data, test_size\u001b[39m=\u001b[39m\u001b[39m0.2\u001b[39m, stratify\u001b[39m=\u001b[39mtarget_data, random_state\u001b[39m=\u001b[39m random_state)\n\u001b[1;32m    342\u001b[0m \u001b[39m# The training and testing data is returned\u001b[39;00m\n",
      "File \u001b[0;32m/local-scratch/localhome/ada104/orx/cms_preprocess.py:273\u001b[0m, in \u001b[0;36maggregate_occurrence_vector_encoding\u001b[0;34m(data, start_col_index)\u001b[0m\n\u001b[1;32m    270\u001b[0m rows_per_sample \u001b[39m=\u001b[39m \u001b[39m3\u001b[39m\n\u001b[1;32m    271\u001b[0m flattened_code_columns \u001b[39m=\u001b[39m np\u001b[39m.\u001b[39mconcatenate([data_grouped\u001b[39m.\u001b[39miloc[i:i\u001b[39m+\u001b[39mrows_per_sample, \u001b[39m2\u001b[39m:end_col_index]\u001b[39m.\u001b[39mvalues\u001b[39m.\u001b[39mflatten() \n\u001b[1;32m    272\u001b[0m                                           \u001b[39mfor\u001b[39;00m i \u001b[39min\u001b[39;00m \u001b[39mrange\u001b[39m(\u001b[39m0\u001b[39m, \u001b[39mlen\u001b[39m(data_grouped), rows_per_sample)])\n\u001b[0;32m--> 273\u001b[0m x_input \u001b[39m=\u001b[39m flattened_code_columns\u001b[39m.\u001b[39;49mreshape(\u001b[39m-\u001b[39;49m\u001b[39m1\u001b[39;49m, \u001b[39mlen\u001b[39;49m(code_columns) \u001b[39m*\u001b[39;49m rows_per_sample)\n\u001b[1;32m    274\u001b[0m \u001b[39m# Prepare the y_input by selecting the values of CLM_DRG_CD for Year equal to 2010\u001b[39;00m\n\u001b[1;32m    275\u001b[0m y_input \u001b[39m=\u001b[39m data_target\u001b[39m.\u001b[39mloc[data_target[\u001b[39m'\u001b[39m\u001b[39mYear\u001b[39m\u001b[39m'\u001b[39m] \u001b[39m==\u001b[39m \u001b[39m'\u001b[39m\u001b[39m2010\u001b[39m\u001b[39m'\u001b[39m, \u001b[39m'\u001b[39m\u001b[39mCLM_DRG_CD\u001b[39m\u001b[39m'\u001b[39m]\u001b[39m.\u001b[39mvalues\n",
      "\u001b[0;31mValueError\u001b[0m: cannot reshape array of size 21435408 into shape (1572)"
     ]
    }
   ],
   "source": [
    "# Split the data into train and test sets\n",
    "x_train, x_test, y_train, y_test = cms_preprocess.get_aov(beneficiaries_df=cms_preprocess.ben,\n",
    "                                                 inpatient_df=cms_preprocess.ip, dx = cms_preprocess.dx, pcs= cms_preprocess.pcs, \n",
    "                                                              start_year=2008, end_year=2010, random_state = 42)\n",
    "\n",
    "# Initialize the Lasso classifier\n",
    "clf = Lasso(alpha=0.001)\n",
    "\n",
    "# 5-fold cross validation\n",
    "scores = cross_val_score(clf, x_train, y_train, cv=5)\n",
    "\n",
    "# Mean and standard deviation of the cross validation scores\n",
    "print(\"Mean:\", np.mean(scores))\n",
    "print(\"Standard deviation:\", np.std(scores))\n",
    "\n",
    "# Fit the classifier to the training data\n",
    "clf.fit(x_train, y_train)\n",
    "\n",
    "# Predict the target values on the test set\n",
    "y_pred = clf.predict(x_test)\n",
    "\n",
    "# Convert the continuous predictions to binary classes\n",
    "y_pred_binary = [1 if y > 0.5 else 0 for y in y_pred]\n",
    "\n",
    "# Evaluate the classifier performance on the test set\n",
    "print(\"Accuracy:\", accuracy_score(y_test, y_pred_binary))\n",
    "print(\"AUC:\", roc_auc_score(y_test, y_pred_binary))\n",
    "\n",
    "# calculate the precision recall curve\n",
    "precision, recall, thresholds = precision_recall_curve(y_test, y_pred_binary)\n",
    "\n",
    "# find the closest recall value to 0.9\n",
    "closest_idx = (np.abs(recall-0.9)).argmin()\n",
    "precision_at_recall_0_9 = precision[closest_idx]\n",
    "\n",
    "print(\"Precision with recall set to 0.9:\", precision_at_recall_0_9)"
   ]
  }
 ],
 "metadata": {
  "kernelspec": {
   "display_name": "orx",
   "language": "python",
   "name": "python3"
  },
  "language_info": {
   "codemirror_mode": {
    "name": "ipython",
    "version": 3
   },
   "file_extension": ".py",
   "mimetype": "text/x-python",
   "name": "python",
   "nbconvert_exporter": "python",
   "pygments_lexer": "ipython3",
   "version": "3.10.9"
  },
  "orig_nbformat": 4,
  "vscode": {
   "interpreter": {
    "hash": "1cc8dc20d4b2d36f80e43c89fbc91b78036150fd34ea14a0f3f26f3341398113"
   }
  }
 },
 "nbformat": 4,
 "nbformat_minor": 2
}
