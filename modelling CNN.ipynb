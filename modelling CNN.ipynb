{
 "cells": [
  {
   "cell_type": "code",
   "execution_count": 1,
   "metadata": {},
   "outputs": [
    {
     "name": "stderr",
     "output_type": "stream",
     "text": [
      "2023-03-17 13:44:49.316264: I tensorflow/core/platform/cpu_feature_guard.cc:193] This TensorFlow binary is optimized with oneAPI Deep Neural Network Library (oneDNN) to use the following CPU instructions in performance-critical operations:  SSE4.1 SSE4.2 AVX AVX2 AVX512F AVX512_VNNI FMA\n",
      "To enable them in other operations, rebuild TensorFlow with the appropriate compiler flags.\n",
      "2023-03-17 13:44:49.361108: I tensorflow/core/util/port.cc:104] oneDNN custom operations are on. You may see slightly different numerical results due to floating-point round-off errors from different computation orders. To turn them off, set the environment variable `TF_ENABLE_ONEDNN_OPTS=0`.\n"
     ]
    }
   ],
   "source": [
    "# Import necessary packages\n",
    "import pandas as pd\n",
    "import numpy as np\n",
    "import seaborn as sns\n",
    "import matplotlib.pyplot as plt\n",
    "from sklearn.preprocessing import Binarizer, LabelEncoder, MultiLabelBinarizer, OneHotEncoder\n",
    "from sklearn.linear_model import Lasso\n",
    "from sklearn.model_selection import train_test_split, cross_val_score\n",
    "from sklearn.ensemble import RandomForestClassifier\n",
    "from sklearn.metrics import roc_curve, auc, roc_auc_score, precision_recall_curve, accuracy_score, precision_score, f1_score, ConfusionMatrixDisplay, confusion_matrix\n",
    "from scipy.stats import ttest_rel, ttest_ind\n",
    "from scipy import stats\n",
    "from keras.layers import Input, Conv1D, MaxPooling1D, AveragePooling1D, Flatten, Dense, Dropout\n",
    "from keras.models import Model, load_model\n",
    "from keras import backend as K\n",
    "import tensorflow as tf\n",
    "# import cms_preprocess"
   ]
  },
  {
   "cell_type": "code",
   "execution_count": 3,
   "metadata": {},
   "outputs": [
    {
     "data": {
      "text/plain": [
       "'2.11.0'"
      ]
     },
     "execution_count": 3,
     "metadata": {},
     "output_type": "execute_result"
    }
   ],
   "source": [
    "import keras\n",
    "keras.__version__"
   ]
  },
  {
   "cell_type": "code",
   "execution_count": 6,
   "metadata": {},
   "outputs": [
    {
     "name": "stderr",
     "output_type": "stream",
     "text": [
      "2023-03-16 15:40:33.682170: I tensorflow/compiler/xla/stream_executor/cuda/cuda_gpu_executor.cc:981] successful NUMA node read from SysFS had negative value (-1), but there must be at least one NUMA node, so returning NUMA node zero\n",
      "2023-03-16 15:40:33.696274: I tensorflow/compiler/xla/stream_executor/cuda/cuda_gpu_executor.cc:981] successful NUMA node read from SysFS had negative value (-1), but there must be at least one NUMA node, so returning NUMA node zero\n",
      "2023-03-16 15:40:33.696413: I tensorflow/compiler/xla/stream_executor/cuda/cuda_gpu_executor.cc:981] successful NUMA node read from SysFS had negative value (-1), but there must be at least one NUMA node, so returning NUMA node zero\n",
      "2023-03-16 15:40:33.696826: I tensorflow/core/platform/cpu_feature_guard.cc:193] This TensorFlow binary is optimized with oneAPI Deep Neural Network Library (oneDNN) to use the following CPU instructions in performance-critical operations:  SSE4.1 SSE4.2 AVX AVX2 AVX512F AVX512_VNNI FMA\n",
      "To enable them in other operations, rebuild TensorFlow with the appropriate compiler flags.\n",
      "2023-03-16 15:40:33.697385: I tensorflow/compiler/xla/stream_executor/cuda/cuda_gpu_executor.cc:981] successful NUMA node read from SysFS had negative value (-1), but there must be at least one NUMA node, so returning NUMA node zero\n",
      "2023-03-16 15:40:33.697484: I tensorflow/compiler/xla/stream_executor/cuda/cuda_gpu_executor.cc:981] successful NUMA node read from SysFS had negative value (-1), but there must be at least one NUMA node, so returning NUMA node zero\n",
      "2023-03-16 15:40:33.697575: I tensorflow/compiler/xla/stream_executor/cuda/cuda_gpu_executor.cc:981] successful NUMA node read from SysFS had negative val"
     ]
    },
    {
     "data": {
      "text/plain": [
       "['/device:GPU:0']"
      ]
     },
     "execution_count": 6,
     "metadata": {},
     "output_type": "execute_result"
    },
    {
     "name": "stderr",
     "output_type": "stream",
     "text": [
      "ue (-1), but there must be at least one NUMA node, so returning NUMA node zero\n",
      "2023-03-16 15:40:34.005948: I tensorflow/compiler/xla/stream_executor/cuda/cuda_gpu_executor.cc:981] successful NUMA node read from SysFS had negative value (-1), but there must be at least one NUMA node, so returning NUMA node zero\n",
      "2023-03-16 15:40:34.006093: I tensorflow/compiler/xla/stream_executor/cuda/cuda_gpu_executor.cc:981] successful NUMA node read from SysFS had negative value (-1), but there must be at least one NUMA node, so returning NUMA node zero\n",
      "2023-03-16 15:40:34.006182: I tensorflow/compiler/xla/stream_executor/cuda/cuda_gpu_executor.cc:981] successful NUMA node read from SysFS had negative value (-1), but there must be at least one NUMA node, so returning NUMA node zero\n",
      "2023-03-16 15:40:34.006244: I tensorflow/core/common_runtime/gpu/gpu_device.cc:1613] Created device /job:localhost/replica:0/task:0/device:GPU:0 with 9871 MB memory:  -> device: 0, name: NVIDIA GeForce RTX 3060, pci bus id: 0000:01:00.0, compute capability: 8.6\n"
     ]
    }
   ],
   "source": [
    "keras.backend._get_available_gpus()"
   ]
  },
  {
   "cell_type": "code",
   "execution_count": 2,
   "metadata": {},
   "outputs": [],
   "source": [
    "# def get_arthritis_patient_data(beneficiaries_df, inpatient_df, pde_df, start_year, end_year):\n",
    "#   \"\"\"\n",
    "#   Process data to identify cases of patients with Rheumatoid Arthritis or Osteoarthritis.\n",
    "\n",
    "#   Args:\n",
    "#       beneficiaries_df (pandas.DataFrame): Dataframe containing beneficiaries data\n",
    "#       inpatient_df (pandas.DataFrame): Dataframe containing inpatient data\n",
    "#       start_year (int): Start year to filter data\n",
    "#       end_year (int): End year to filter data\n",
    "\n",
    "#   Returns:\n",
    "#       pandas.DataFrame: Processed dataframe containing cases of patients with Rheumatoid Arthritis or Osteoarthritis.\n",
    "#   \"\"\"\n",
    "\n",
    "#   # Merge beneficiaries and inpatient dataframes on DESYNPUF_ID\n",
    "#   merged_df = pd.merge(beneficiaries_df, pde_df, on='DESYNPUF_ID', how='inner')\n",
    "#   merged_df = pd.merge(merged_df, inpatient_df, on='DESYNPUF_ID', how='inner')\n",
    "\n",
    "#   # Extract year from the Year column\n",
    "#   # merged_df.dropna(subset=['CLM_FROM_DT'], inplace=True)\n",
    "#   merged_df['CLM_FROM_DT'] = pd.to_numeric(merged_df['CLM_FROM_DT'], errors='coerce')\n",
    "\n",
    "#   # Remove any missing values in CLM_FROM_DT\n",
    "#   merged_df.dropna(subset=['CLM_FROM_DT'], inplace=True)\n",
    "#   merged_df['CLM_FROM_DT'] = merged_df['CLM_FROM_DT'].astype(int)\n",
    "\n",
    "#   # Extract year from the CLM_FROM_DT column\n",
    "#   merged_df['Year'] = pd.to_datetime(merged_df['CLM_FROM_DT'], format='%Y%m%d', errors='coerce').dt.year\n",
    "#   merged_df.insert(4, \"Year\", merged_df.pop(\"Year\"))  \n",
    "\n",
    "#   # Filter data to only include years between start_year and end_year\n",
    "#   merged_df = merged_df[(merged_df['Year'] >= start_year) & (merged_df['Year'] <= end_year)]\n",
    "  \n",
    "#   # Filter data to only include cases with Rheumatoid Arthritis/Osteoarthritis diagnosis\n",
    "#   merged_df = merged_df[merged_df['SP_RA_OA'] == 1]\n",
    "  \n",
    "#   # Remove TJR surgeries in the first two years\n",
    "#   merged_df = merged_df[~(merged_df['Year'].isin([start_year, start_year + 1]) & merged_df['CLM_DRG_CD'].isin(['469', '470']))]\n",
    "\n",
    "#   # Filter data to only include patients fully enrolled in the selected years\n",
    "#   full_enrollment_years = {year for year in range(start_year, end_year + 1)}\n",
    "#   merged_df = merged_df[merged_df.groupby('DESYNPUF_ID')['Year'].transform(lambda x: set(x) >= full_enrollment_years)]\n",
    "#   merged_df['Year'] = merged_df['Year'].astype(str)\n",
    "  \n",
    "#   # calculate age in years\n",
    "#   merged_df['Age'] = (pd.to_datetime(merged_df['CLM_FROM_DT'],\n",
    "#                                      format='%Y%m%d') - pd.to_datetime(merged_df['BENE_BIRTH_DT'],\n",
    "#                                                                        format='%Y%m%d')).dt.days / 365\n",
    "#   merged_df.insert(3, 'Age', merged_df.pop('Age'))\n",
    "\n",
    "#   return merged_df\n",
    "\n",
    "# data = get_arthritis_patient_data(beneficiaries_df=ben, inpatient_df=ip, pde_df=pde, start_year=2008, end_year=2010)\n"
   ]
  },
  {
   "cell_type": "code",
   "execution_count": null,
   "metadata": {},
   "outputs": [],
   "source": [
    "# train_input, test_input, train_target, test_target, train_dv, test_dv = cms_preprocess.get_mhe(beneficiaries_df=cms_preprocess.ben,\n",
    "#                                                  inpatient_df=cms_preprocess.ip, dx = cms_preprocess.dx, pcs= cms_preprocess.pcs, \n",
    "#                                                               start_year=2008, end_year=2010, rows = 10000, random_state = 42)"
   ]
  },
  {
   "cell_type": "code",
   "execution_count": 6,
   "metadata": {},
   "outputs": [],
   "source": [
    "# np.save('data/cms/train_inp_balanced.npy', train_input.astype(bool))\n",
    "# np.save('data/cms/train_dv_balanced.npy', train_dv)\n",
    "# np.save('data/cms/test_inp_balanced.npy', test_input.astype(bool))\n",
    "# np.save('data/cms/test_dv_balanced.npy', test_dv)\n",
    "# np.save('data/cms/test_tar_balanced.npy', test_target.astype(bool))\n",
    "# np.save('data/cms/train_tar_balanced.npy', train_target.astype(bool))"
   ]
  },
  {
   "cell_type": "code",
   "execution_count": 5,
   "metadata": {},
   "outputs": [],
   "source": [
    "# np.save('data/cms/train_inp.npy', train_input.astype(bool))\n",
    "# np.save('data/cms/train_dv.npy', train_dv)\n",
    "# np.save('data/cms/test_inp.npy', test_input.astype(bool))\n",
    "# np.save('data/cms/test_dv.npy', test_dv)\n",
    "# np.save('data/cms/test_tar.npy', test_target.astype(bool))\n",
    "# np.save('data/cms/train_tar.npy', train_target.astype(bool))"
   ]
  },
  {
   "cell_type": "code",
   "execution_count": 2,
   "metadata": {},
   "outputs": [],
   "source": [
    "# train_input = np.load('data/cms/train_inp.npy')\n",
    "# train_input = train_input.astype('float32')\n",
    "\n",
    "# train_dv = np.load('data/cms/train_dv.npy')\n",
    "# train_dv = train_dv\n",
    "\n",
    "# train_target = np.load('data/cms/train_tar.npy')\n",
    "# train_target = train_target.astype('float32')"
   ]
  },
  {
   "cell_type": "code",
   "execution_count": 2,
   "metadata": {},
   "outputs": [],
   "source": [
    "train_input = np.load('data/cms/train_inp_balanced.npy')\n",
    "train_input = train_input.astype('float32')\n",
    "\n",
    "train_dv = np.load('data/cms/train_dv_balanced.npy')\n",
    "train_dv = train_dv\n",
    "\n",
    "train_target = np.load('data/cms/train_tar_balanced.npy')\n",
    "train_target = train_target.astype('float32')"
   ]
  },
  {
   "cell_type": "code",
   "execution_count": 3,
   "metadata": {},
   "outputs": [
    {
     "data": {
      "text/plain": [
       "array([  33,  421,  466,  610,  912, 1024, 1221, 1395, 1496, 1868, 2231,\n",
       "       2490, 2540, 2570, 3295, 3309, 3330, 3543, 3559, 3653, 3944, 4057,\n",
       "       4138, 4234, 4396, 4504, 4550, 4592, 4767, 4861, 5233, 5563, 5585,\n",
       "       5776, 5850, 5932, 5941, 6086, 6170, 6307, 6549, 6743, 6745, 6889,\n",
       "       7144, 7247, 7362, 7560, 7832, 7870, 7964])"
      ]
     },
     "execution_count": 3,
     "metadata": {},
     "output_type": "execute_result"
    }
   ],
   "source": [
    "np.where(train_target==1)[0]"
   ]
  },
  {
   "cell_type": "code",
   "execution_count": 3,
   "metadata": {},
   "outputs": [
    {
     "name": "stderr",
     "output_type": "stream",
     "text": [
      "2023-03-17 13:25:56.875871: I tensorflow/compiler/xla/stream_executor/cuda/cuda_gpu_executor.cc:981] successful NUMA node read from SysFS had negative value (-1), but there must be at least one NUMA node, so returning NUMA node zero\n",
      "2023-03-17 13:25:56.889969: I tensorflow/compiler/xla/stream_executor/cuda/cuda_gpu_executor.cc:981] successful NUMA node read from SysFS had negative value (-1), but there must be at least one NUMA node, so returning NUMA node zero\n",
      "2023-03-17 13:25:56.890109: I tensorflow/compiler/xla/stream_executor/cuda/cuda_gpu_executor.cc:981] successful NUMA node read from SysFS had negative value (-1), but there must be at least one NUMA node, so returning NUMA node zero\n",
      "2023-03-17 13:25:56.890404: I tensorflow/core/platform/cpu_feature_guard.cc:193] This TensorFlow binary is optimized with oneAPI Deep Neural Network Library (oneDNN) to use the following CPU instructions in performance-critical operations:  SSE4.1 SSE4.2 AVX AVX2 AVX512F AVX512_VNNI FMA\n",
      "To enable them in other operations, rebuild TensorFlow with the appropriate compiler flags.\n",
      "2023-03-17 13:25:56.890994: I tensorflow/compiler/xla/stream_executor/cuda/cuda_gpu_executor.cc:981] successful NUMA node read from SysFS had negative value (-1), but there must be at least one NUMA node, so returning NUMA node zero\n",
      "2023-03-17 13:25:56.891108: I tensorflow/compiler/xla/stream_executor/cuda/cuda_gpu_executor.cc:981] successful NUMA node read from SysFS had negative value (-1), but there must be at least one NUMA node, so returning NUMA node zero\n",
      "2023-03-17 13:25:56.891186: I tensorflow/compiler/xla/stream_executor/cuda/cuda_gpu_executor.cc:981] successful NUMA node read from SysFS had negative value (-1), but there must be at least one NUMA node, so returning NUMA node zero\n",
      "2023-03-17 13:25:57.199271: I tensorflow/compiler/xla/stream_executor/cuda/cuda_gpu_executor.cc:981] successful NUMA node read from SysFS had negative value (-1), but there must be at least one NUMA node, so returning NUMA node zero\n",
      "2023-03-17 13:25:57.199410: I tensorflow/compiler/xla/stream_executor/cuda/cuda_gpu_executor.cc:981] successful NUMA node read from SysFS had negative value (-1), but there must be at least one NUMA node, so returning NUMA node zero\n",
      "2023-03-17 13:25:57.199493: I tensorflow/compiler/xla/stream_executor/cuda/cuda_gpu_executor.cc:981] successful NUMA node read from SysFS had negative value (-1), but there must be at least one NUMA node, so returning NUMA node zero\n",
      "2023-03-17 13:25:57.199551: I tensorflow/core/common_runtime/gpu/gpu_device.cc:1613] Created device /job:localhost/replica:0/task:0/device:GPU:0 with 10205 MB memory:  -> device: 0, name: NVIDIA GeForce RTX 3060, pci bus id: 0000:01:00.0, compute capability: 8.6\n"
     ]
    },
    {
     "name": "stdout",
     "output_type": "stream",
     "text": [
      "INFO:tensorflow:Using MirroredStrategy with devices ('/job:localhost/replica:0/task:0/device:GPU:0',)\n",
      "INFO:tensorflow:Reduce to /job:localhost/replica:0/task:0/device:CPU:0 then broadcast to ('/job:localhost/replica:0/task:0/device:CPU:0',).\n",
      "INFO:tensorflow:Reduce to /job:localhost/replica:0/task:0/device:CPU:0 then broadcast to ('/job:localhost/replica:0/task:0/device:CPU:0',).\n",
      "INFO:tensorflow:Reduce to /job:localhost/replica:0/task:0/device:CPU:0 then broadcast to ('/job:localhost/replica:0/task:0/device:CPU:0',).\n",
      "INFO:tensorflow:Reduce to /job:localhost/replica:0/task:0/device:CPU:0 then broadcast to ('/job:localhost/replica:0/task:0/device:CPU:0',).\n"
     ]
    },
    {
     "name": "stderr",
     "output_type": "stream",
     "text": [
      "2023-03-17 13:26:01.418900: W tensorflow/core/grappler/optimizers/data/auto_shard.cc:784] AUTO sharding policy will apply DATA sharding policy as it failed to apply FILE sharding policy because of the following reason: Found an unshardable source dataset: name: \"TensorSliceDataset/_2\"\n",
      "op: \"TensorSliceDataset\"\n",
      "input: \"Placeholder/_0\"\n",
      "input: \"Placeholder/_1\"\n",
      "attr {\n",
      "  key: \"Toutput_types\"\n",
      "  value {\n",
      "    list {\n",
      "      type: DT_FLOAT\n",
      "      type: DT_FLOAT\n",
      "    }\n",
      "  }\n",
      "}\n",
      "attr {\n",
      "  key: \"_cardinality\"\n",
      "  value {\n",
      "    i: 6400\n",
      "  }\n",
      "}\n",
      "attr {\n",
      "  key: \"is_files\"\n",
      "  value {\n",
      "    b: false\n",
      "  }\n",
      "}\n",
      "attr {\n",
      "  key: \"metadata\"\n",
      "  value {\n",
      "    s: \"\\n\\024TensorSliceDataset:0\"\n",
      "  }\n",
      "}\n",
      "attr {\n",
      "  key: \"output_shapes\"\n",
      "  value {\n",
      "    list {\n",
      "      shape {\n",
      "        dim {\n",
      "          size: 366\n",
      "        }\n",
      "        dim {\n",
      "          size: 516\n",
      "        }\n",
      "      }\n",
      "      shape {\n",
      "      }\n",
      "    }\n",
      "  }\n",
      "}\n",
      "attr {\n",
      "  key: \"replicate_on_split\"\n",
      "  value {\n",
      "    b: false\n",
      "  }\n",
      "}\n",
      "experimental_type {\n",
      "  type_id: TFT_PRODUCT\n",
      "  args {\n",
      "    type_id: TFT_DATASET\n",
      "    args {\n",
      "      type_id: TFT_PRODUCT\n",
      "      args {\n",
      "        type_id: TFT_TENSOR\n",
      "        args {\n",
      "          type_id: TFT_FLOAT\n",
      "        }\n",
      "      }\n",
      "      args {\n",
      "        type_id: TFT_TENSOR\n",
      "        args {\n",
      "          type_id: TFT_FLOAT\n",
      "        }\n",
      "      }\n",
      "    }\n",
      "  }\n",
      "}\n",
      "\n"
     ]
    },
    {
     "name": "stdout",
     "output_type": "stream",
     "text": [
      "Epoch 1/10\n",
      "INFO:tensorflow:Reduce to /job:localhost/replica:0/task:0/device:CPU:0 then broadcast to ('/job:localhost/replica:0/task:0/device:CPU:0',).\n",
      "INFO:tensorflow:Reduce to /job:localhost/replica:0/task:0/device:CPU:0 then broadcast to ('/job:localhost/replica:0/task:0/device:CPU:0',).\n",
      "INFO:tensorflow:Reduce to /job:localhost/replica:0/task:0/device:CPU:0 then broadcast to ('/job:localhost/replica:0/task:0/device:CPU:0',).\n",
      "INFO:tensorflow:Reduce to /job:localhost/replica:0/task:0/device:CPU:0 then broadcast to ('/job:localhost/replica:0/task:0/device:CPU:0',).\n",
      "INFO:tensorflow:Reduce to /job:localhost/replica:0/task:0/device:CPU:0 then broadcast to ('/job:localhost/replica:0/task:0/device:CPU:0',).\n",
      "INFO:tensorflow:Reduce to /job:localhost/replica:0/task:0/device:CPU:0 then broadcast to ('/job:localhost/replica:0/task:0/device:CPU:0',).\n"
     ]
    },
    {
     "name": "stderr",
     "output_type": "stream",
     "text": [
      "2023-03-17 13:26:04.139577: E tensorflow/core/grappler/optimizers/meta_optimizer.cc:954] layout failed: INVALID_ARGUMENT: Size of values 0 does not match size of permutation 4 @ fanin shape insequential/dropout/dropout/SelectV2-2-TransposeNHWCToNCHW-LayoutOptimizer\n",
      "2023-03-17 13:26:05.484735: I tensorflow/compiler/xla/stream_executor/cuda/cuda_dnn.cc:428] Loaded cuDNN version 8401\n",
      "2023-03-17 13:26:06.266272: I tensorflow/tsl/platform/default/subprocess.cc:304] Start cannot spawn child process: No such file or directory\n",
      "2023-03-17 13:26:07.030694: I tensorflow/compiler/xla/stream_executor/cuda/cuda_blas.cc:630] TensorFloat-32 will be used for the matrix multiplication. This will only be logged once.\n",
      "2023-03-17 13:26:07.031041: I tensorflow/compiler/xla/service/service.cc:173] XLA service 0x7fe8d002bd70 initialized for platform CUDA (this does not guarantee that XLA will be used). Devices:\n",
      "2023-03-17 13:26:07.031053: I tensorflow/compiler/xla/service/service.cc:181]   StreamExecutor device (0): NVIDIA GeForce RTX 3060, Compute Capability 8.6\n",
      "2023-03-17 13:26:07.033815: I tensorflow/compiler/mlir/tensorflow/utils/dump_mlir_util.cc:268] disabling MLIR crash reproducer, set env var `MLIR_CRASH_REPRODUCER_DIRECTORY` to enable.\n",
      "2023-03-17 13:26:07.070386: I tensorflow/tsl/platform/default/subprocess.cc:304] Start cannot spawn child process: No such file or directory\n",
      "2023-03-17 13:26:07.093179: I tensorflow/compiler/jit/xla_compilation_cache.cc:477] Compiled cluster using XLA!  This line is logged at most once for the lifetime of the process.\n"
     ]
    },
    {
     "name": "stdout",
     "output_type": "stream",
     "text": [
      "26/26 [==============================] - ETA: 0s - loss: 0.6086 - accuracy: 0.9633"
     ]
    },
    {
     "name": "stderr",
     "output_type": "stream",
     "text": [
      "2023-03-17 13:26:09.033894: W tensorflow/core/grappler/optimizers/data/auto_shard.cc:784] AUTO sharding policy will apply DATA sharding policy as it failed to apply FILE sharding policy because of the following reason: Found an unshardable source dataset: name: \"TensorSliceDataset/_2\"\n",
      "op: \"TensorSliceDataset\"\n",
      "input: \"Placeholder/_0\"\n",
      "input: \"Placeholder/_1\"\n",
      "attr {\n",
      "  key: \"Toutput_types\"\n",
      "  value {\n",
      "    list {\n",
      "      type: DT_FLOAT\n",
      "      type: DT_FLOAT\n",
      "    }\n",
      "  }\n",
      "}\n",
      "attr {\n",
      "  key: \"_cardinality\"\n",
      "  value {\n",
      "    i: 1600\n",
      "  }\n",
      "}\n",
      "attr {\n",
      "  key: \"is_files\"\n",
      "  value {\n",
      "    b: false\n",
      "  }\n",
      "}\n",
      "attr {\n",
      "  key: \"metadata\"\n",
      "  value {\n",
      "    s: \"\\n\\024TensorSliceDataset:3\"\n",
      "  }\n",
      "}\n",
      "attr {\n",
      "  key: \"output_shapes\"\n",
      "  value {\n",
      "    list {\n",
      "      shape {\n",
      "        dim {\n",
      "          size: 366\n",
      "        }\n",
      "        dim {\n",
      "          size: 516\n",
      "        }\n",
      "      }\n",
      "      shape {\n",
      "      }\n",
      "    }\n",
      "  }\n",
      "}\n",
      "attr {\n",
      "  key: \"replicate_on_split\"\n",
      "  value {\n",
      "    b: false\n",
      "  }\n",
      "}\n",
      "experimental_type {\n",
      "  type_id: TFT_PRODUCT\n",
      "  args {\n",
      "    type_id: TFT_DATASET\n",
      "    args {\n",
      "      type_id: TFT_PRODUCT\n",
      "      args {\n",
      "        type_id: TFT_TENSOR\n",
      "        args {\n",
      "          type_id: TFT_FLOAT\n",
      "        }\n",
      "      }\n",
      "      args {\n",
      "        type_id: TFT_TENSOR\n",
      "        args {\n",
      "          type_id: TFT_FLOAT\n",
      "        }\n",
      "      }\n",
      "    }\n",
      "  }\n",
      "}\n",
      "\n"
     ]
    },
    {
     "name": "stdout",
     "output_type": "stream",
     "text": [
      "26/26 [==============================] - 8s 158ms/step - loss: 0.6086 - accuracy: 0.9633 - val_loss: 0.4967 - val_accuracy: 0.9937\n",
      "Epoch 2/10\n",
      "26/26 [==============================] - 2s 66ms/step - loss: 0.3759 - accuracy: 0.9936 - val_loss: 0.2922 - val_accuracy: 0.9937\n",
      "Epoch 3/10\n",
      "26/26 [==============================] - 2s 65ms/step - loss: 0.1959 - accuracy: 0.9937 - val_loss: 0.1601 - val_accuracy: 0.9937\n",
      "Epoch 4/10\n",
      "26/26 [==============================] - 2s 65ms/step - loss: 0.1031 - accuracy: 0.9937 - val_loss: 0.0966 - val_accuracy: 0.9937\n",
      "Epoch 5/10\n",
      "26/26 [==============================] - 2s 66ms/step - loss: 0.0611 - accuracy: 0.9939 - val_loss: 0.0657 - val_accuracy: 0.9937\n",
      "Epoch 6/10\n",
      "26/26 [==============================] - 2s 67ms/step - loss: 0.0409 - accuracy: 0.9941 - val_loss: 0.0490 - val_accuracy: 0.9937\n",
      "Epoch 7/10\n",
      "26/26 [==============================] - 2s 66ms/step - loss: 0.0291 - accuracy: 0.9944 - val_loss: 0.0395 - val_accuracy: 0.9937\n",
      "Epoch 8/10\n",
      "26/26 [==============================] - 2s 63ms/step - loss: 0.0224 - accuracy: 0.9944 - val_loss: 0.0335 - val_accuracy: 0.9937\n",
      "Epoch 9/10\n",
      "26/26 [==============================] - 2s 65ms/step - loss: 0.0181 - accuracy: 0.9944 - val_loss: 0.0295 - val_accuracy: 0.9937\n",
      "Epoch 10/10\n",
      "26/26 [==============================] - 2s 68ms/step - loss: 0.0154 - accuracy: 0.9944 - val_loss: 0.0270 - val_accuracy: 0.9944\n"
     ]
    },
    {
     "data": {
      "image/png": "[encoded data removed]",
      "text/plain": [
       "<Figure size 800x600 with 1 Axes>"
      ]
     },
     "metadata": {},
     "output_type": "display_data"
    }
   ],
   "source": [
    "batch_size = 250\n",
    "epochs=10\n",
    "\n",
    "# Split the data into training and validation sets\n",
    "train_input, val_input, train_target, val_target = train_test_split(train_input, train_target,\n",
    "                                                                     test_size=0.2, random_state=42, stratify=train_target)\n",
    "\n",
    "# Create a tf.data.Dataset object from your data\n",
    "train_dataset = tf.data.Dataset.from_tensor_slices((train_input, train_target))\n",
    "train_dataset = train_dataset.shuffle(buffer_size=len(train_input))\n",
    "train_dataset = train_dataset.batch(batch_size)\n",
    "\n",
    "val_dataset = tf.data.Dataset.from_tensor_slices((val_input, val_target))\n",
    "val_dataset = val_dataset.batch(batch_size)\n",
    "\n",
    "strategy = tf.distribute.MirroredStrategy()\n",
    "with strategy.scope():\n",
    "    # Define the CNN model\n",
    "    model = tf.keras.Sequential([\n",
    "        tf.keras.layers.Reshape((366, 516, 1)), # reshape the input data into a 4D tensor\n",
    "        tf.keras.layers.Conv2D(100, (366, 516), activation='relu'), # add a 2D convolutional layer with 100 filters\n",
    "        tf.keras.layers.MaxPooling2D((1, 1)), # add a max pooling layer\n",
    "        tf.keras.layers.Dropout(0.5), # add a dropout layer to prevent overfitting\n",
    "        tf.keras.layers.Flatten(), # flatten the output from the convolutional layer\n",
    "        tf.keras.layers.Dense(1, activation='sigmoid') # add a dense, fully connected layer with a sigmoid activation\n",
    "    ])\n",
    "\n",
    "    # Compile the model with both the loss and accuracy metrics\n",
    "    model.compile(optimizer='adam', loss='binary_crossentropy', metrics=['accuracy'])\n",
    "\n",
    "    # Train the model\n",
    "    history = model.fit(train_dataset, epochs=epochs, validation_data=val_dataset)\n",
    "    \n",
    "    # Plot the loss and accuracy\n",
    "    fig, ax = plt.subplots(figsize=(8, 6))\n",
    "    ax.plot(history.history['loss'], label='Training Loss')\n",
    "    ax.plot(history.history['accuracy'], label='Training Accuracy')\n",
    "    ax.plot(history.history['val_loss'], label='Validation Loss')\n",
    "    ax.plot(history.history['val_accuracy'], label='Validation Accuracy')\n",
    "    ax.set_title('Model Loss and Accuracy', fontsize=16)\n",
    "    ax.set_xlabel('Epoch', fontsize=14)\n",
    "    ax.set_ylabel('Loss / Accuracy', fontsize=14)\n",
    "    ax.tick_params(axis='both', which='major', labelsize=12)\n",
    "    ax.legend(fontsize=12)\n",
    "    plt.show()\n"
   ]
  },
  {
   "cell_type": "code",
   "execution_count": 11,
   "metadata": {},
   "outputs": [],
   "source": [
    "# Save the model\n",
    "model.save('models/cnn_10000b.h5')"
   ]
  },
  {
   "cell_type": "code",
   "execution_count": 2,
   "metadata": {},
   "outputs": [
    {
     "name": "stderr",
     "output_type": "stream",
     "text": [
      "2023-03-17 13:45:03.925667: I tensorflow/compiler/xla/stream_executor/cuda/cuda_gpu_executor.cc:981] successful NUMA node read from SysFS had negative value (-1), but there must be at least one NUMA node, so returning NUMA node zero\n",
      "2023-03-17 13:45:03.940978: I tensorflow/compiler/xla/stream_executor/cuda/cuda_gpu_executor.cc:981] successful NUMA node read from SysFS had negative value (-1), but there must be at least one NUMA node, so returning NUMA node zero\n",
      "2023-03-17 13:45:03.941115: I tensorflow/compiler/xla/stream_executor/cuda/cuda_gpu_executor.cc:981] successful NUMA node read from SysFS had negative value (-1), but there must be at least one NUMA node, so returning NUMA node zero\n",
      "2023-03-17 13:45:03.941422: I tensorflow/core/platform/cpu_feature_guard.cc:193] This TensorFlow binary is optimized with oneAPI Deep Neural Network Library (oneDNN) to use the following CPU instructions in performance-critical operations:  SSE4.1 SSE4.2 AVX AVX2 AVX512F AVX512_VNNI FMA\n",
      "To enable them in other operations, rebuild TensorFlow with the appropriate compiler flags.\n",
      "2023-03-17 13:45:03.941958: I tensorflow/compiler/xla/stream_executor/cuda/cuda_gpu_executor.cc:981] successful NUMA node read from SysFS had negative value (-1), but there must be at least one NUMA node, so returning NUMA node zero\n",
      "2023-03-17 13:45:03.942060: I tensorflow/compiler/xla/stream_executor/cuda/cuda_gpu_executor.cc:981] successful NUMA node read from SysFS had negative value (-1), but there must be at least one NUMA node, so returning NUMA node zero\n",
      "2023-03-17 13:45:03.942138: I tensorflow/compiler/xla/stream_executor/cuda/cuda_gpu_executor.cc:981] successful NUMA node read from SysFS had negative value (-1), but there must be at least one NUMA node, so returning NUMA node zero\n",
      "2023-03-17 13:45:04.287214: I tensorflow/compiler/xla/stream_executor/cuda/cuda_gpu_executor.cc:981] successful NUMA node read from SysFS had negative value (-1), but there must be at least one NUMA node, so returning NUMA node zero\n",
      "2023-03-17 13:45:04.287389: I tensorflow/compiler/xla/stream_executor/cuda/cuda_gpu_executor.cc:981] successful NUMA node read from SysFS had negative value (-1), but there must be at least one NUMA node, so returning NUMA node zero\n",
      "2023-03-17 13:45:04.287487: I tensorflow/compiler/xla/stream_executor/cuda/cuda_gpu_executor.cc:981] successful NUMA node read from SysFS had negative value (-1), but there must be at least one NUMA node, so returning NUMA node zero\n",
      "2023-03-17 13:45:04.287556: I tensorflow/core/common_runtime/gpu/gpu_device.cc:1613] Created device /job:localhost/replica:0/task:0/device:GPU:0 with 10205 MB memory:  -> device: 0, name: NVIDIA GeForce RTX 3060, pci bus id: 0000:01:00.0, compute capability: 8.6\n"
     ]
    }
   ],
   "source": [
    "# Load the model\n",
    "model = tf.keras.models.load_model('models/cnn_10000b.h5')"
   ]
  },
  {
   "cell_type": "code",
   "execution_count": 10,
   "metadata": {},
   "outputs": [],
   "source": [
    "# strategy = tf.distribute.MirroredStrategy()\n",
    "# with strategy.scope():\n",
    "#     # Define the CNN model\n",
    "#     model = tf.keras.Sequential([\n",
    "#         tf.keras.layers.Reshape((366, 516, 1)), # reshape the input data into a 4D tensor\n",
    "#         tf.keras.layers.Conv2D(100, (366, 516), activation='relu'), # add a 2D convolutional layer with 100 filters\n",
    "#         tf.keras.layers.MaxPooling2D((1, 1)), # add a max pooling layer\n",
    "#         tf.keras.layers.Dropout(0.5), # add a dropout layer to prevent overfitting\n",
    "#         tf.keras.layers.Flatten(), # flatten the output from the convolutional layer\n",
    "#         tf.keras.layers.Dense(1, activation='sigmoid') # add a dense, fully connected layer with a sigmoid activation\n",
    "#     ])\n",
    "\n",
    "#     # Compile the model\n",
    "#     model.compile(optimizer='adam', loss='binary_crossentropy', metrics=['accuracy'])\n",
    "    \n",
    "#     # Define the number of chunks\n",
    "#     num_chunks = 30\n",
    "\n",
    "#     # Calculate the size of each chunk\n",
    "#     chunk_size = train_input.shape[0] // num_chunks\n",
    "\n",
    "#     # Train the model in chunks\n",
    "#     for i in range(num_chunks):\n",
    "#         start_index = i * chunk_size\n",
    "#         end_index = start_index + chunk_size\n",
    "#         if i == num_chunks - 1:\n",
    "#             end_index = train_input.shape[0]\n",
    "\n",
    "#         chunk_input = train_input[start_index:end_index]\n",
    "#         chunk_target = train_target[start_index:end_index]\n",
    "\n",
    "#         model.fit(chunk_input, chunk_target, epochs=10, batch_size=250)\n"
   ]
  },
  {
   "cell_type": "code",
   "execution_count": 15,
   "metadata": {},
   "outputs": [],
   "source": [
    "import tensorflow as tf\n",
    "\n",
    "\n",
    "graph1 = K.get_config()\n",
    "\n",
    "\n",
    "graph2 = K.get_graph()\n",
    "\n",
    "# with graph1.as_default():\n",
    "#     model1.predict(X) (or training)\n",
    "\n",
    "# with graph2.as_default():\n",
    "#     model2.predict(X) (or training)"
   ]
  },
  {
   "cell_type": "code",
   "execution_count": 16,
   "metadata": {},
   "outputs": [
    {
     "data": {
      "text/plain": [
       "device_count {\n",
       "  key: \"CPU\"\n",
       "  value: 1\n",
       "}\n",
       "device_count {\n",
       "  key: \"GPU\"\n",
       "  value: 1\n",
       "}\n",
       "gpu_options {\n",
       "  visible_device_list: \"0\"\n",
       "  experimental {\n",
       "  }\n",
       "}\n",
       "allow_soft_placement: true\n",
       "experimental {\n",
       "}"
      ]
     },
     "execution_count": 16,
     "metadata": {},
     "output_type": "execute_result"
    }
   ],
   "source": [
    "graph1"
   ]
  },
  {
   "cell_type": "code",
   "execution_count": null,
   "metadata": {},
   "outputs": [],
   "source": [
    "# strategy = tf.distribute.MirroredStrategy()\n",
    "# # with graph1.as_default():\n",
    "# with strategy.scope():\n",
    "#     # Define the model\n",
    "#     data_input = tf.keras.layers.Input(shape=(366, 516))  # input shape for non-demographic variables data\n",
    "#     feature_input = tf.keras.layers.Input(shape=(2,))  # input shape for demographic variables\n",
    "#     x = tf.keras.layers.Reshape((366, 516, 1))(data_input)  # reshape the input to a 4D tensor\n",
    "#     x = tf.keras.layers.Conv2D(100, (366, 516), activation='relu')(x)  # convolutional layer with 100 filters\n",
    "#     x = tf.keras.layers.MaxPooling2D((1, 1))(x)  # max pooling layer\n",
    "#     x = tf.keras.layers.Dropout(0.5)(x)  # dropout layer to prevent overfitting\n",
    "#     x = tf.keras.layers.Flatten()(x)  # flatten the output from the convolutional layer\n",
    "#     concatenated = tf.keras.layers.concatenate([x, feature_input])  # concatenate the demographic variables with the flattened output\n",
    "#     output = tf.keras.layers.Dense(1, activation='sigmoid')(concatenated)  # dense, fully connected layer with a sigmoid activation\n",
    "#     model = tf.keras.Model(inputs=[data_input, feature_input], outputs=output)  # define the model with inputs and outputs\n",
    "\n",
    "#     # Compile the model\n",
    "#     model.compile(optimizer='adam', loss='binary_crossentropy', metrics=['accuracy'])\n",
    "    \n",
    "#     # Define the number of chunks\n",
    "#     num_chunks = 30\n",
    "\n",
    "#     # Calculate the size of each chunk\n",
    "#     chunk_size = train_input.shape[0] // num_chunks\n",
    "\n",
    "#     # Train the model in chunks\n",
    "#     for i in range(num_chunks):\n",
    "#         start_index = i * chunk_size\n",
    "#         end_index = start_index + chunk_size\n",
    "#         if i == num_chunks - 1:\n",
    "#             end_index = train_input.shape[0]\n",
    "\n",
    "#         chunk_data = train_input[start_index:end_index]\n",
    "#         chunk_features = train_dv[start_index:end_index]\n",
    "#         chunk_target = train_target[start_index:end_index]\n",
    "\n",
    "#         model.fit([chunk_data, chunk_features], chunk_target, epochs=10, batch_size=250)"
   ]
  },
  {
   "cell_type": "code",
   "execution_count": 10,
   "metadata": {},
   "outputs": [],
   "source": [
    "from keras.backend import set_session\n",
    "from keras.backend import clear_session\n",
    "from keras.backend import get_session\n",
    "import gc"
   ]
  },
  {
   "cell_type": "code",
   "execution_count": 18,
   "metadata": {},
   "outputs": [],
   "source": [
    "from keras.backend import set_session\n",
    "from keras.backend import clear_session\n",
    "from keras.backend import get_session\n",
    "import gc\n",
    "\n",
    "# Reset Keras Session\n",
    "def reset_keras():\n",
    "    sess = get_session()\n",
    "    clear_session()\n",
    "    sess.close()\n",
    "    sess = get_session()\n",
    "\n",
    "    try:\n",
    "        del model # this is from global space - change this as you need\n",
    "    except:\n",
    "        pass\n",
    "\n",
    "    print(gc.collect()) # if it's done something you should see a number being outputted\n",
    "\n",
    "    # use the same config as you used to create the session\n",
    "    # config = tf.compat.v1.ConfigProto()\n",
    "    # config.gpu_options.per_process_gpu_memory_fraction = 1\n",
    "    # config.gpu_options.visible_device_list = \"0\"\n",
    "    # set_session(tf.Session(config=config))\n",
    "    # sess."
   ]
  },
  {
   "cell_type": "code",
   "execution_count": 25,
   "metadata": {},
   "outputs": [
    {
     "name": "stderr",
     "output_type": "stream",
     "text": [
      "2023-03-16 16:24:55.873778: I tensorflow/compiler/xla/stream_executor/cuda/cuda_gpu_executor.cc:981] successful NUMA node read from SysFS had negative value (-1), but there must be at least one NUMA node, so returning NUMA node zero\n",
      "2023-03-16 16:24:55.875475: I tensorflow/compiler/xla/stream_executor/cuda/cuda_gpu_executor.cc:981] successful NUMA node read from SysFS had negative value (-1), but there must be at least one NUMA node, so returning NUMA node zero\n",
      "2023-03-16 16:24:55.876541: I tensorflow/compiler/xla/stream_executor/cuda/cuda_gpu_executor.cc:981] successful NUMA node read from SysFS had negative value (-1), but there must be at least one NUMA node, so returning NUMA node zero\n",
      "2023-03-16 16:24:55.878202: I tensorflow/compiler/xla/stream_executor/cuda/cuda_gpu_executor.cc:981] successful NUMA node read from SysFS had negative value (-1), but there must be at least one NUMA node, so returning NUMA node zero\n",
      "2023-03-16 16:24:55.878670: I tensorflow/compiler/xla/stream_executor/cuda/cuda_gpu_executor.cc:981] successful NUMA node read from SysFS had negative value (-1), but there must be at least one NUMA node, so returning NUMA node zero\n",
      "2023-03-16 16:24:55.878746: I tensorflow/core/common_runtime/gpu/gpu_device.cc:1613] Created device /job:localhost/replica:0/task:0/device:GPU:0 with 9871 MB memory:  -> device: 0, name: NVIDIA GeForce RTX 3060, pci bus id: 0000:01:00.0, compute capability: 8.6\n"
     ]
    },
    {
     "name": "stdout",
     "output_type": "stream",
     "text": [
      "11783\n"
     ]
    }
   ],
   "source": [
    "reset_keras()"
   ]
  },
  {
   "cell_type": "code",
   "execution_count": 21,
   "metadata": {},
   "outputs": [],
   "source": [
    "num_clear()"
   ]
  },
  {
   "cell_type": "code",
   "execution_count": null,
   "metadata": {},
   "outputs": [],
   "source": []
  },
  {
   "cell_type": "code",
   "execution_count": 12,
   "metadata": {},
   "outputs": [],
   "source": [
    "# test_input = np.load('/localhome/ada104/orx/data/cms/test_inp.npy')\n",
    "# test_input = test_input.astype('float32')\n",
    "\n",
    "# test_dv = np.load('/localhome/ada104/orx/data/cms/test_dv.npy')\n",
    "\n",
    "# test_target = np.load('/localhome/ada104/orx/data/cms/test_tar.npy')\n",
    "# test_target = test_target.astype('float32')"
   ]
  },
  {
   "cell_type": "code",
   "execution_count": 3,
   "metadata": {},
   "outputs": [],
   "source": [
    "test_input = np.load('data/cms/test_inp_balanced.npy')\n",
    "test_input = test_input.astype('float32')\n",
    "\n",
    "test_dv = np.load('data/cms/test_dv_balanced.npy')\n",
    "\n",
    "test_target = np.load('data/cms/test_tar_balanced.npy')\n",
    "test_target = test_target.astype('float32')"
   ]
  },
  {
   "cell_type": "code",
   "execution_count": 4,
   "metadata": {},
   "outputs": [
    {
     "ename": "ValueError",
     "evalue": "in user code:\n\n    File \"/opt/conda/sharedenvs/orx/lib/python3.10/site-packages/keras/engine/training.py\", line 2137, in predict_function  *\n        return step_function(self, iterator)\n    File \"/opt/conda/sharedenvs/orx/lib/python3.10/site-packages/keras/engine/training.py\", line 2123, in step_function  **\n        outputs = model.distribute_strategy.run(run_step, args=(data,))\n    File \"/opt/conda/sharedenvs/orx/lib/python3.10/site-packages/keras/engine/training.py\", line 2111, in run_step  **\n        outputs = model.predict_step(data)\n    File \"/opt/conda/sharedenvs/orx/lib/python3.10/site-packages/keras/engine/training.py\", line 2079, in predict_step\n        return self(x, training=False)\n    File \"/opt/conda/sharedenvs/orx/lib/python3.10/site-packages/keras/utils/traceback_utils.py\", line 70, in error_handler\n        raise e.with_traceback(filtered_tb) from None\n    File \"/opt/conda/sharedenvs/orx/lib/python3.10/site-packages/keras/engine/input_spec.py\", line 216, in assert_input_compatibility\n        raise ValueError(\n\n    ValueError: Layer \"sequential\" expects 1 input(s), but it received 2 input tensors. Inputs received: [<tf.Tensor 'IteratorGetNext:0' shape=(None, 366, 516) dtype=float32>, <tf.Tensor 'IteratorGetNext:1' shape=(None, 2) dtype=float32>]\n",
     "output_type": "error",
     "traceback": [
      "\u001b[0;31m---------------------------------------------------------------------------\u001b[0m",
      "\u001b[0;31mValueError\u001b[0m                                Traceback (most recent call last)",
      "Cell \u001b[0;32mIn[4], line 14\u001b[0m\n\u001b[1;32m     12\u001b[0m \u001b[39mfor\u001b[39;00m i, chunk \u001b[39min\u001b[39;00m \u001b[39menumerate\u001b[39m(test_chunks):\n\u001b[1;32m     13\u001b[0m     feature_chunk \u001b[39m=\u001b[39m feature_chunks[i]\n\u001b[0;32m---> 14\u001b[0m     chunk_predictions \u001b[39m=\u001b[39m model\u001b[39m.\u001b[39;49mpredict([chunk, feature_chunk], batch_size\u001b[39m=\u001b[39;49mbatch_size)\n\u001b[1;32m     15\u001b[0m     predictions\u001b[39m.\u001b[39mappend(chunk_predictions)\n\u001b[1;32m     17\u001b[0m \u001b[39m# Concatenate predictions from all chunks\u001b[39;00m\n",
      "File \u001b[0;32m/opt/conda/sharedenvs/orx/lib/python3.10/site-packages/keras/utils/traceback_utils.py:70\u001b[0m, in \u001b[0;36mfilter_traceback.<locals>.error_handler\u001b[0;34m(*args, **kwargs)\u001b[0m\n\u001b[1;32m     67\u001b[0m     filtered_tb \u001b[39m=\u001b[39m _process_traceback_frames(e\u001b[39m.\u001b[39m__traceback__)\n\u001b[1;32m     68\u001b[0m     \u001b[39m# To get the full stack trace, call:\u001b[39;00m\n\u001b[1;32m     69\u001b[0m     \u001b[39m# `tf.debugging.disable_traceback_filtering()`\u001b[39;00m\n\u001b[0;32m---> 70\u001b[0m     \u001b[39mraise\u001b[39;00m e\u001b[39m.\u001b[39mwith_traceback(filtered_tb) \u001b[39mfrom\u001b[39;00m \u001b[39mNone\u001b[39m\n\u001b[1;32m     71\u001b[0m \u001b[39mfinally\u001b[39;00m:\n\u001b[1;32m     72\u001b[0m     \u001b[39mdel\u001b[39;00m filtered_tb\n",
      "File \u001b[0;32m/tmp/__autograph_generated_file_lhdj32h.py:15\u001b[0m, in \u001b[0;36mouter_factory.<locals>.inner_factory.<locals>.tf__predict_function\u001b[0;34m(iterator)\u001b[0m\n\u001b[1;32m     13\u001b[0m \u001b[39mtry\u001b[39;00m:\n\u001b[1;32m     14\u001b[0m     do_return \u001b[39m=\u001b[39m \u001b[39mTrue\u001b[39;00m\n\u001b[0;32m---> 15\u001b[0m     retval_ \u001b[39m=\u001b[39m ag__\u001b[39m.\u001b[39mconverted_call(ag__\u001b[39m.\u001b[39mld(step_function), (ag__\u001b[39m.\u001b[39mld(\u001b[39mself\u001b[39m), ag__\u001b[39m.\u001b[39mld(iterator)), \u001b[39mNone\u001b[39;00m, fscope)\n\u001b[1;32m     16\u001b[0m \u001b[39mexcept\u001b[39;00m:\n\u001b[1;32m     17\u001b[0m     do_return \u001b[39m=\u001b[39m \u001b[39mFalse\u001b[39;00m\n",
      "\u001b[0;31mValueError\u001b[0m: in user code:\n\n    File \"/opt/conda/sharedenvs/orx/lib/python3.10/site-packages/keras/engine/training.py\", line 2137, in predict_function  *\n        return step_function(self, iterator)\n    File \"/opt/conda/sharedenvs/orx/lib/python3.10/site-packages/keras/engine/training.py\", line 2123, in step_function  **\n        outputs = model.distribute_strategy.run(run_step, args=(data,))\n    File \"/opt/conda/sharedenvs/orx/lib/python3.10/site-packages/keras/engine/training.py\", line 2111, in run_step  **\n        outputs = model.predict_step(data)\n    File \"/opt/conda/sharedenvs/orx/lib/python3.10/site-packages/keras/engine/training.py\", line 2079, in predict_step\n        return self(x, training=False)\n    File \"/opt/conda/sharedenvs/orx/lib/python3.10/site-packages/keras/utils/traceback_utils.py\", line 70, in error_handler\n        raise e.with_traceback(filtered_tb) from None\n    File \"/opt/conda/sharedenvs/orx/lib/python3.10/site-packages/keras/engine/input_spec.py\", line 216, in assert_input_compatibility\n        raise ValueError(\n\n    ValueError: Layer \"sequential\" expects 1 input(s), but it received 2 input tensors. Inputs received: [<tf.Tensor 'IteratorGetNext:0' shape=(None, 366, 516) dtype=float32>, <tf.Tensor 'IteratorGetNext:1' shape=(None, 2) dtype=float32>]\n"
     ]
    }
   ],
   "source": [
    "# Set batch size and number of chunks\n",
    "batch_size = 8\n",
    "num_chunks = 30\n",
    "\n",
    "# Split test data and demographic variables into chunks\n",
    "chunk_size = len(test_input) // num_chunks\n",
    "test_chunks = [test_input[i:i+chunk_size] for i in range(0, len(test_input), chunk_size)]\n",
    "feature_chunks = [test_dv[i:i+chunk_size] for i in range(0, len(test_dv), chunk_size)]\n",
    "\n",
    "# Get predictions for each chunk of data\n",
    "predictions = []\n",
    "for i, chunk in enumerate(test_chunks):\n",
    "    feature_chunk = feature_chunks[i]\n",
    "    chunk_predictions = model.predict([chunk, feature_chunk], batch_size=batch_size)\n",
    "    predictions.append(chunk_predictions)\n",
    "\n",
    "# Concatenate predictions from all chunks\n",
    "predictions = np.concatenate(predictions, axis=0)\n"
   ]
  },
  {
   "cell_type": "code",
   "execution_count": 6,
   "metadata": {},
   "outputs": [
    {
     "data": {
      "text/plain": [
       "array([ 231,  363,  366,  468,  676,  702,  790, 1294, 1534, 1547, 1565,\n",
       "       1715, 1721])"
      ]
     },
     "execution_count": 6,
     "metadata": {},
     "output_type": "execute_result"
    }
   ],
   "source": [
    "np.where(test_target==1)[0]"
   ]
  },
  {
   "cell_type": "code",
   "execution_count": 7,
   "metadata": {},
   "outputs": [
    {
     "name": "stdout",
     "output_type": "stream",
     "text": [
      "1/1 [==============================] - 0s 492ms/step\n",
      "Prediction: [[0.00684254]\n",
      " [0.46906644]\n",
      " [0.25149068]\n",
      " [0.00504696]\n",
      " [0.01461605]\n",
      " [0.32881823]\n",
      " [0.5192098 ]\n",
      " [0.41432968]\n",
      " [0.00542646]\n",
      " [0.00684254]\n",
      " [0.01269953]\n",
      " [0.25149068]\n",
      " [0.4672401 ]]\n"
     ]
    }
   ],
   "source": [
    "# Get the prediction for some samples in the test set\n",
    "sample = test_input[np.where(test_target==1)[0]]\n",
    "dv_sample = test_dv[np.where(test_target==1)[0]]\n",
    "\n",
    "prediction = model.predict([np.array(sample), dv_sample])\n",
    "\n",
    "# Print the prediction\n",
    "print('Prediction:', prediction)"
   ]
  },
  {
   "cell_type": "code",
   "execution_count": 17,
   "metadata": {},
   "outputs": [],
   "source": [
    "# # Get the prediction for some samples in the test set\n",
    "# sample = test_input[np.where(test_target==1)[0]]\n",
    "# prediction = model.predict(np.array(sample))\n",
    "\n",
    "# # Print the prediction\n",
    "# print('Prediction:', prediction)"
   ]
  },
  {
   "cell_type": "code",
   "execution_count": 18,
   "metadata": {},
   "outputs": [],
   "source": [
    "# # Set batch size and number of chunks\n",
    "# batch_size = 8\n",
    "# num_chunks = 30\n",
    "\n",
    "# # Split test data into chunks\n",
    "# chunk_size = len(test_input) // num_chunks\n",
    "# test_chunks = [test_input[i:i+chunk_size] for i in range(0, len(test_input), chunk_size)]\n",
    "\n",
    "# # Get predictions for each chunk of data\n",
    "# predictions = []\n",
    "# for chunk in test_chunks:\n",
    "#     chunk_predictions = model.predict(chunk, batch_size=batch_size)\n",
    "#     predictions.append(chunk_predictions)\n",
    "\n",
    "# # Concatenate predictions from all chunks\n",
    "# predictions = np.concatenate(predictions, axis=0)\n"
   ]
  },
  {
   "cell_type": "code",
   "execution_count": 8,
   "metadata": {},
   "outputs": [
    {
     "name": "stdout",
     "output_type": "stream",
     "text": [
      "Best threshold: 0.13\n"
     ]
    }
   ],
   "source": [
    "preds = np.copy(predictions)\n",
    "preds = np.squeeze(preds)\n",
    "\n",
    "# Find the F1 score for different threshold values\n",
    "thresholds = np.arange(0, 1, 0.01)\n",
    "f1_scores = [f1_score(test_target, (preds > t).astype(int), average='weighted') for t in thresholds]\n",
    "\n",
    "# Find the threshold value that maximizes the F1 score\n",
    "best_idx = np.argmax(f1_scores)\n",
    "best_threshold = thresholds[best_idx]\n",
    "\n",
    "print(\"Best threshold:\" ,best_threshold)\n",
    "\n",
    "preds[preds >= best_threshold] = 1\n",
    "preds[preds < best_threshold] = 0"
   ]
  },
  {
   "cell_type": "code",
   "execution_count": 9,
   "metadata": {},
   "outputs": [
    {
     "data": {
      "image/png": "[encoded data removed]",
      "text/plain": [
       "<Figure size 640x480 with 2 Axes>"
      ]
     },
     "metadata": {},
     "output_type": "display_data"
    }
   ],
   "source": [
    "# Compute the confusion matrix\n",
    "cm = confusion_matrix(test_target, preds)\n",
    "\n",
    "# Create a heatmap of the confusion matrix\n",
    "sns.heatmap(cm, annot=True, fmt='g', cmap='Blues')\n",
    "\n",
    "# Add labels and title\n",
    "plt.xlabel('Predicted labels')\n",
    "plt.ylabel('True labels')\n",
    "plt.title('Confusion Matrix')\n",
    "\n",
    "# Show the plot\n",
    "plt.show()\n"
   ]
  },
  {
   "cell_type": "code",
   "execution_count": 10,
   "metadata": {},
   "outputs": [
    {
     "name": "stdout",
     "output_type": "stream",
     "text": [
      "AUC: 0.7692\n",
      "Precision with recall set to 0.9: 1.0000\n"
     ]
    },
    {
     "data": {
      "image/png": "[encoded data removed]",
      "text/plain": [
       "<Figure size 640x480 with 1 Axes>"
      ]
     },
     "metadata": {},
     "output_type": "display_data"
    }
   ],
   "source": [
    "# Compute the AUC\n",
    "auc_score = roc_auc_score(test_target, preds)\n",
    "print(\"AUC: {:.4f}\".format(auc_score))\n",
    "\n",
    "# Compute the precision with recall set to 0.9\n",
    "precision, recall, thresholds = precision_recall_curve(test_target, preds)\n",
    "idx = (recall >= 0.9).argmin()\n",
    "precision_at_recall_09 = precision[idx]\n",
    "print(\"Precision with recall set to 0.9: {:.4f}\".format(precision_at_recall_09))\n",
    "\n",
    "# Compute the false positive rate and true positive rate\n",
    "fpr, tpr, thresholds = roc_curve(test_target, preds)\n",
    "\n",
    "# Compute the area under the curve (AUC)\n",
    "roc_auc_curve = auc(fpr, tpr)\n",
    "\n",
    "# Plot the ROC curve\n",
    "plt.figure()\n",
    "plt.plot(fpr, tpr, color='darkorange', lw=2, label='ROC curve (AUC = {:.4f})'.format(roc_auc_curve))\n",
    "plt.plot([0, 1], [0, 1], color='navy', lw=2, linestyle='--')\n",
    "plt.xlabel('False Positive Rate')\n",
    "plt.ylabel('True Positive Rate')\n",
    "plt.title('Receiver operating characteristic (ROC) curve')\n",
    "plt.legend(loc='lower right')\n",
    "plt.show()\n"
   ]
  },
  {
   "cell_type": "code",
   "execution_count": 18,
   "metadata": {},
   "outputs": [],
   "source": [
    "def num_clear():\n",
    "    from numba import cuda\n",
    "    cuda.select_device(0)\n",
    "    cuda.close()"
   ]
  }
 ],
 "metadata": {
  "kernelspec": {
   "display_name": "orx",
   "language": "python",
   "name": "python3"
  },
  "language_info": {
   "codemirror_mode": {
    "name": "ipython",
    "version": 3
   },
   "file_extension": ".py",
   "mimetype": "text/x-python",
   "name": "python",
   "nbconvert_exporter": "python",
   "pygments_lexer": "ipython3",
   "version": "3.10.9"
  },
  "orig_nbformat": 4,
  "vscode": {
   "interpreter": {
    "hash": "1cc8dc20d4b2d36f80e43c89fbc91b78036150fd34ea14a0f3f26f3341398113"
   }
  }
 },
 "nbformat": 4,
 "nbformat_minor": 2
}
